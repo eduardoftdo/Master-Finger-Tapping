{
 "cells": [
  {
   "attachments": {},
   "cell_type": "markdown",
   "metadata": {},
   "source": [
    "# <center>A study on pre-processing video images to improve the accuracy of hand tremor classifiers</center>\n",
    "\n",
    "<center><em>Eduardo Furtado - Master's Dissertation</em></center>\n",
    "<center><em>Advisor: Prof. Dr. Ana Cristina Bicharra Garcia</em></center>\n",
    "<center><em>UNIRIO PPGI - Universidade Federal do Estado do Rio de Janeiro Graduate Program in Computer Science</em></center>\n",
    "\n",
    "In this study, we aim to verify if pre-processing videos of patients performing finger tapping tasks can improve the outcome of pose estimation algorithms, and in turn, enhance the performance of a hand tremor classifier. Finger tapping videos are fundamental in clinical evaluations, aiding in determining the MDS-UPDRS score for Parkinson's patients. As deep neural networks play an increasing role in medical diagnostics, AI stands out as a valuable tool for the early diagnosis of movement disorders. Maintaining high video data quality is essential. Employing 2D videos emerges as a cost-effective and user-friendly strategy that enables remote medical assessments as simple as recording a video with a webcam. By drawing on established methodologies, we hope to provide a robust and clinically relevant approach.\n",
    "\n",
    "Our research unfolds across two objectives:\n",
    "\n",
    "- Reproduction and Assessment of Methodology Efficacy: Our first endeavor involves replicating the results presented by **Yang et al.** in `Automatic Detection Pipeline for Accessing the Motor Severity of Parkinson’s Disease in Finger Tapping and Postural Stability`, utilizing the PDMotorDB dataset for hand tremor sevirity classification based on their MDS-UPDRS score. Successfully reproducing their findings will not only validate the methodologies employed by Yang et al. but also underscore the robustness and consistency of their approach.\n",
    "\n",
    "- Exploration of Image Pre-processing Impact: This research also delves into the domain of video image pre-processing. We aim to determine if the application of the Contrast Limited Adaptive Histogram Equalization (CLAHE) technique — a method adopted in a parallel study by **Chen et al.** — can refine the performance of hand-pose estimation algorithms. Chen et al. grappled with analogous challenges related to pose estimation errors in their research, `Patient-Specific Pose Estimation in Clinical Environments`, which revolved around bedridden patients. The belief is that a better pose estimation data, driven by nuanced pre-processing, might elevate the classifier's accuracy for hand tremor severity.\n",
    "\n",
    "The foundational data for our exploration is the PDMotorDB dataset, a collection of videos portraying Parkinson's disease patients engaged in finger tapping tasks. Shared by Yang et al. in their 2022 paper \"Automatic Detection Pipeline for Accessing the Motor Severity of Parkinson’s Disease in Finger Tapping and Postural Stability\" this dataset, combined with insights from both Yang et al. and Chen et al., positions us to extract meaningful conclusions about the potential synergies between cutting-edge image processing techniques and AI-infused diagnostic tools.\n",
    "\n",
    "PDMotorDB dataset <br>https://github.com/pddata/PDMotorDB\n",
    "\n",
    "**Yang et al. (2022)** `Automatic Detection Pipeline for Accessing the Motor Severity of Parkinson’s Disease in Finger Tapping and Postural Stability` <br>https://doi.org/10.1109/ACCESS.2022.3183232\n",
    "\n",
    "**Chen et al. (2018)** `Patient-Specific Pose Estimation in Clinical Environments` <br>https://doi.org/10.1109/JTEHM.2018.2875464\n"
   ]
  },
  {
   "attachments": {},
   "cell_type": "markdown",
   "metadata": {},
   "source": [
    "# Exploratory Data Analysis\n",
    "\n",
    "In this part, we will replicate the methodology applied by Yang et al. to create all the domain knowledge features they used and train a DNN model to classify the severity of tremor from the hand videos. Hand landmarks were extracted using the MediaPipe library for both the right and left hand and save in a csv file. To visually explore the data, we first filter for only one participant at a time. Then, we create the features for all the videos of that participant and train a DNN model with the same architecture as the one used by Yang et al. to classify the severity of tremor. \n",
    "\n",
    "**From the paper (page 5)**\n",
    "\n",
    "```\n",
    "In the domain knowledge extraction stage, we extract three features: the tapping rate, the tapping frozen times, and the tapping amplitude variation for the finger tapping action. Those features represent the patient’s ability to control their fingers. \n",
    "\n",
    "The tapping rate is defined as the tapping number divided by the time interval. \n",
    "Tapping frozen times is defined as the hesitation number of the patient. \n",
    "The tapping amplitude variation refers to the distance variation in which the patient spread the thumb and the index finger. \n",
    "\n",
    "To calculate the three features above, we first calculate the distance from the thumb to the index finger for each frame. Finger tapping status can be represented by the distances. Those distances compose of a discrete signal, which can form a wave form by connecting the adjacent point. To make the wave form smooth and filter noise, we use low pass filtering to get rid of the frequency with over 4 Hz. Second, we normalize the distance by dividing by the maximum distance to avoid the variation of the hand distance to the camera. For example, when the distance comes to zero, the thumb and the index finger are pressed together. When the distance comes to one, the thumb and the index finger are pulled apart at most. The wave form of one cycle can be viewed as a tapping, shown in Figure 3(a). The mark ‘x’ in yellow represents the local minimal point.\n",
    "\n",
    "From the wave form, the tapping rate can be calculated as the tapping number divided by time. For example, in the first row of Figure 3(b), the tapping rate is the number of ‘x’ mark, the local minimal point divided by five seconds. The tapping rate is 1.6 taps per second in this example. The frozen state is defined as the patient prolonging the current action for a while. In the second row of Figure 3(b), we can see there is an obvious flat line in the center of the wave form. We first calculate the first derivative of the wave form and take the range with small derivatives as the frozen interval. We take the number of the frozen interval as the feature of tapping frozen times. The tapping amplitude refers to the patient’s ability to keep the tapping amplitude. For example, there is an obvious decrease in the amplitude of the wave form, shown in the third row of Figure 3(b). We calculate the standard deviation of the tapping amplitude to grasp the tapping amplitude variation, avoiding the effects of the various absolute pixel distances. Besides, this is also consistent with the criteria in the 3.12 part of MDS-UPDRS.\n",
    "```"
   ]
  },
  {
   "cell_type": "markdown",
   "metadata": {},
   "source": [
    "### Reading the hand landmarks file"
   ]
  },
  {
   "cell_type": "code",
   "execution_count": 1,
   "metadata": {},
   "outputs": [
    {
     "data": {
      "text/plain": [
       "(1591655, 12)"
      ]
     },
     "execution_count": 1,
     "metadata": {},
     "output_type": "execute_result"
    }
   ],
   "source": [
    "import pandas as pd\n",
    "\n",
    "input_path = r'C:\\Users\\Eduardo\\OneDrive\\Área de Trabalho\\marked-finger-lr'\n",
    "\n",
    "df_landmark = pd.read_csv(f'{input_path}/df_landmark_confidence_0.5.csv', sep=';')\n",
    "df_landmark.shape"
   ]
  },
  {
   "cell_type": "code",
   "execution_count": null,
   "metadata": {},
   "outputs": [],
   "source": [
    "df_landmark.head()"
   ]
  },
  {
   "attachments": {},
   "cell_type": "markdown",
   "metadata": {},
   "source": [
    "### Selecting one participant\n",
    "\n",
    "After selecting a participant, we also filter the data to only include the tip of the index finger and the thumb, that we will use to create the features."
   ]
  },
  {
   "cell_type": "code",
   "execution_count": 3,
   "metadata": {},
   "outputs": [
    {
     "data": {
      "text/plain": [
       "(250, 12)"
      ]
     },
     "execution_count": 3,
     "metadata": {},
     "output_type": "execute_result"
    }
   ],
   "source": [
    "participant = 'R00001.avi'\n",
    "\n",
    "\n",
    "# from the pose estimation algorithm, we get the following landmarks:\n",
    "# landmark_id 4: THUMB_TIP\n",
    "# landmark_id 8: INDEX_FINGER_TIP\n",
    "# https://developers.google.com/mediapipe/solutions/vision/hand_landmarker\n",
    "\n",
    "landmark_thumb_tip = 4\n",
    "landmark_index_finger_tip = 8\n",
    "\n",
    "data = df_landmark[(df_landmark['participant']==participant) & \n",
    "                   (df_landmark['landmark_id'].isin([landmark_thumb_tip, landmark_index_finger_tip]))].copy()\n",
    "\n",
    "data['landmark_id'] = data['landmark_id'].map({landmark_thumb_tip: '_thumb_tip', landmark_index_finger_tip: '_index_tip'})\n",
    "\n",
    "data.shape"
   ]
  },
  {
   "cell_type": "code",
   "execution_count": 4,
   "metadata": {},
   "outputs": [
    {
     "data": {
      "text/html": [
       "<div>\n",
       "<style scoped>\n",
       "    .dataframe tbody tr th:only-of-type {\n",
       "        vertical-align: middle;\n",
       "    }\n",
       "\n",
       "    .dataframe tbody tr th {\n",
       "        vertical-align: top;\n",
       "    }\n",
       "\n",
       "    .dataframe thead th {\n",
       "        text-align: right;\n",
       "    }\n",
       "</style>\n",
       "<table border=\"1\" class=\"dataframe\">\n",
       "  <thead>\n",
       "    <tr style=\"text-align: right;\">\n",
       "      <th></th>\n",
       "      <th>file</th>\n",
       "      <th>participant</th>\n",
       "      <th>frame</th>\n",
       "      <th>hand_num</th>\n",
       "      <th>landmark_id</th>\n",
       "      <th>x</th>\n",
       "      <th>y</th>\n",
       "      <th>z</th>\n",
       "      <th>result</th>\n",
       "      <th>result_index</th>\n",
       "      <th>result_score</th>\n",
       "      <th>result_label</th>\n",
       "    </tr>\n",
       "  </thead>\n",
       "  <tbody>\n",
       "    <tr>\n",
       "      <th>955064</th>\n",
       "      <td>E:\\PDMotorDB\\lr\\R00001.avi</td>\n",
       "      <td>R00001.avi</td>\n",
       "      <td>0</td>\n",
       "      <td>0.0</td>\n",
       "      <td>_thumb_tip</td>\n",
       "      <td>0.644310</td>\n",
       "      <td>0.340900</td>\n",
       "      <td>-0.096499</td>\n",
       "      <td>[classification {\\n  index: 0\\n  score: 0.9879...</td>\n",
       "      <td>0.0</td>\n",
       "      <td>0.987923</td>\n",
       "      <td>Left</td>\n",
       "    </tr>\n",
       "    <tr>\n",
       "      <th>955068</th>\n",
       "      <td>E:\\PDMotorDB\\lr\\R00001.avi</td>\n",
       "      <td>R00001.avi</td>\n",
       "      <td>0</td>\n",
       "      <td>0.0</td>\n",
       "      <td>_index_tip</td>\n",
       "      <td>0.528733</td>\n",
       "      <td>0.202041</td>\n",
       "      <td>-0.137749</td>\n",
       "      <td>[classification {\\n  index: 0\\n  score: 0.9879...</td>\n",
       "      <td>0.0</td>\n",
       "      <td>0.987923</td>\n",
       "      <td>Left</td>\n",
       "    </tr>\n",
       "    <tr>\n",
       "      <th>955085</th>\n",
       "      <td>E:\\PDMotorDB\\lr\\R00001.avi</td>\n",
       "      <td>R00001.avi</td>\n",
       "      <td>1</td>\n",
       "      <td>0.0</td>\n",
       "      <td>_thumb_tip</td>\n",
       "      <td>0.688530</td>\n",
       "      <td>0.376662</td>\n",
       "      <td>-0.187936</td>\n",
       "      <td>[classification {\\n  index: 0\\n  score: 0.9812...</td>\n",
       "      <td>0.0</td>\n",
       "      <td>0.981231</td>\n",
       "      <td>Left</td>\n",
       "    </tr>\n",
       "    <tr>\n",
       "      <th>955089</th>\n",
       "      <td>E:\\PDMotorDB\\lr\\R00001.avi</td>\n",
       "      <td>R00001.avi</td>\n",
       "      <td>1</td>\n",
       "      <td>0.0</td>\n",
       "      <td>_index_tip</td>\n",
       "      <td>0.556952</td>\n",
       "      <td>0.117352</td>\n",
       "      <td>-0.204186</td>\n",
       "      <td>[classification {\\n  index: 0\\n  score: 0.9812...</td>\n",
       "      <td>0.0</td>\n",
       "      <td>0.981231</td>\n",
       "      <td>Left</td>\n",
       "    </tr>\n",
       "    <tr>\n",
       "      <th>955106</th>\n",
       "      <td>E:\\PDMotorDB\\lr\\R00001.avi</td>\n",
       "      <td>R00001.avi</td>\n",
       "      <td>2</td>\n",
       "      <td>0.0</td>\n",
       "      <td>_thumb_tip</td>\n",
       "      <td>0.696156</td>\n",
       "      <td>0.393507</td>\n",
       "      <td>-0.192796</td>\n",
       "      <td>[classification {\\n  index: 0\\n  score: 0.9861...</td>\n",
       "      <td>0.0</td>\n",
       "      <td>0.986167</td>\n",
       "      <td>Left</td>\n",
       "    </tr>\n",
       "  </tbody>\n",
       "</table>\n",
       "</div>"
      ],
      "text/plain": [
       "                              file participant  frame  hand_num landmark_id  \\\n",
       "955064  E:\\PDMotorDB\\lr\\R00001.avi  R00001.avi      0       0.0  _thumb_tip   \n",
       "955068  E:\\PDMotorDB\\lr\\R00001.avi  R00001.avi      0       0.0  _index_tip   \n",
       "955085  E:\\PDMotorDB\\lr\\R00001.avi  R00001.avi      1       0.0  _thumb_tip   \n",
       "955089  E:\\PDMotorDB\\lr\\R00001.avi  R00001.avi      1       0.0  _index_tip   \n",
       "955106  E:\\PDMotorDB\\lr\\R00001.avi  R00001.avi      2       0.0  _thumb_tip   \n",
       "\n",
       "               x         y         z  \\\n",
       "955064  0.644310  0.340900 -0.096499   \n",
       "955068  0.528733  0.202041 -0.137749   \n",
       "955085  0.688530  0.376662 -0.187936   \n",
       "955089  0.556952  0.117352 -0.204186   \n",
       "955106  0.696156  0.393507 -0.192796   \n",
       "\n",
       "                                                   result  result_index  \\\n",
       "955064  [classification {\\n  index: 0\\n  score: 0.9879...           0.0   \n",
       "955068  [classification {\\n  index: 0\\n  score: 0.9879...           0.0   \n",
       "955085  [classification {\\n  index: 0\\n  score: 0.9812...           0.0   \n",
       "955089  [classification {\\n  index: 0\\n  score: 0.9812...           0.0   \n",
       "955106  [classification {\\n  index: 0\\n  score: 0.9861...           0.0   \n",
       "\n",
       "        result_score result_label  \n",
       "955064      0.987923         Left  \n",
       "955068      0.987923         Left  \n",
       "955085      0.981231         Left  \n",
       "955089      0.981231         Left  \n",
       "955106      0.986167         Left  "
      ]
     },
     "execution_count": 4,
     "metadata": {},
     "output_type": "execute_result"
    }
   ],
   "source": [
    "data.head()"
   ]
  },
  {
   "attachments": {},
   "cell_type": "markdown",
   "metadata": {},
   "source": [
    "### Calculating the distance between the thumb and the index finger\n",
    "\n",
    "`To calculate the three features above, we first calculate the distance from the thumb to the index finger for each frame`"
   ]
  },
  {
   "cell_type": "code",
   "execution_count": 5,
   "metadata": {},
   "outputs": [
    {
     "data": {
      "text/plain": [
       "(125, 7)"
      ]
     },
     "execution_count": 5,
     "metadata": {},
     "output_type": "execute_result"
    }
   ],
   "source": [
    "import numpy as np\n",
    "\n",
    "data_pivot = data.pivot_table(index=['frame', 'participant'], columns='landmark_id', values=['x', 'y']).reset_index()\n",
    "data_pivot.columns = [str(col[0]) + str(col[1]).replace('.0', '') for col in data_pivot.columns]\n",
    "\n",
    "data_pivot['dist'] = np.sqrt((data_pivot['x_thumb_tip'] - data_pivot['x_index_tip'])**2 + \n",
    "                             (data_pivot['y_thumb_tip'] - data_pivot['y_index_tip'])**2)\n",
    "\n",
    "data_pivot.shape"
   ]
  },
  {
   "cell_type": "code",
   "execution_count": 6,
   "metadata": {},
   "outputs": [
    {
     "data": {
      "text/html": [
       "<div>\n",
       "<style scoped>\n",
       "    .dataframe tbody tr th:only-of-type {\n",
       "        vertical-align: middle;\n",
       "    }\n",
       "\n",
       "    .dataframe tbody tr th {\n",
       "        vertical-align: top;\n",
       "    }\n",
       "\n",
       "    .dataframe thead th {\n",
       "        text-align: right;\n",
       "    }\n",
       "</style>\n",
       "<table border=\"1\" class=\"dataframe\">\n",
       "  <thead>\n",
       "    <tr style=\"text-align: right;\">\n",
       "      <th></th>\n",
       "      <th>frame</th>\n",
       "      <th>participant</th>\n",
       "      <th>x_index_tip</th>\n",
       "      <th>x_thumb_tip</th>\n",
       "      <th>y_index_tip</th>\n",
       "      <th>y_thumb_tip</th>\n",
       "      <th>dist</th>\n",
       "    </tr>\n",
       "  </thead>\n",
       "  <tbody>\n",
       "    <tr>\n",
       "      <th>0</th>\n",
       "      <td>0</td>\n",
       "      <td>R00001.avi</td>\n",
       "      <td>0.528733</td>\n",
       "      <td>0.644310</td>\n",
       "      <td>0.202041</td>\n",
       "      <td>0.340900</td>\n",
       "      <td>0.180665</td>\n",
       "    </tr>\n",
       "    <tr>\n",
       "      <th>1</th>\n",
       "      <td>1</td>\n",
       "      <td>R00001.avi</td>\n",
       "      <td>0.556952</td>\n",
       "      <td>0.688530</td>\n",
       "      <td>0.117352</td>\n",
       "      <td>0.376662</td>\n",
       "      <td>0.290782</td>\n",
       "    </tr>\n",
       "    <tr>\n",
       "      <th>2</th>\n",
       "      <td>2</td>\n",
       "      <td>R00001.avi</td>\n",
       "      <td>0.566714</td>\n",
       "      <td>0.696156</td>\n",
       "      <td>0.090360</td>\n",
       "      <td>0.393507</td>\n",
       "      <td>0.329627</td>\n",
       "    </tr>\n",
       "    <tr>\n",
       "      <th>3</th>\n",
       "      <td>3</td>\n",
       "      <td>R00001.avi</td>\n",
       "      <td>0.581263</td>\n",
       "      <td>0.678055</td>\n",
       "      <td>0.095330</td>\n",
       "      <td>0.403044</td>\n",
       "      <td>0.322578</td>\n",
       "    </tr>\n",
       "    <tr>\n",
       "      <th>4</th>\n",
       "      <td>4</td>\n",
       "      <td>R00001.avi</td>\n",
       "      <td>0.509086</td>\n",
       "      <td>0.586647</td>\n",
       "      <td>0.167417</td>\n",
       "      <td>0.356662</td>\n",
       "      <td>0.204522</td>\n",
       "    </tr>\n",
       "  </tbody>\n",
       "</table>\n",
       "</div>"
      ],
      "text/plain": [
       "   frame participant  x_index_tip  x_thumb_tip  y_index_tip  y_thumb_tip  \\\n",
       "0      0  R00001.avi     0.528733     0.644310     0.202041     0.340900   \n",
       "1      1  R00001.avi     0.556952     0.688530     0.117352     0.376662   \n",
       "2      2  R00001.avi     0.566714     0.696156     0.090360     0.393507   \n",
       "3      3  R00001.avi     0.581263     0.678055     0.095330     0.403044   \n",
       "4      4  R00001.avi     0.509086     0.586647     0.167417     0.356662   \n",
       "\n",
       "       dist  \n",
       "0  0.180665  \n",
       "1  0.290782  \n",
       "2  0.329627  \n",
       "3  0.322578  \n",
       "4  0.204522  "
      ]
     },
     "execution_count": 6,
     "metadata": {},
     "output_type": "execute_result"
    }
   ],
   "source": [
    "data_pivot.head()"
   ]
  },
  {
   "attachments": {},
   "cell_type": "markdown",
   "metadata": {},
   "source": [
    "### Low pass filtering\n",
    "\n",
    "`To make the wave form smooth and filter noise, we use low pass filtering to get rid of the frequency with over 4 Hz`"
   ]
  },
  {
   "cell_type": "code",
   "execution_count": 7,
   "metadata": {},
   "outputs": [],
   "source": [
    "import numpy as np\n",
    "from scipy.signal import butter, filtfilt\n",
    "\n",
    "cutoff = 4 # cutoff frequency in Hz\n",
    "sampling_rate = 25 # video in 25 fps\n",
    "order = 2\n",
    "\n",
    "# butterworth filter\n",
    "normal_cutoff = cutoff / (0.5 * sampling_rate)\n",
    "b, a = butter(order, normal_cutoff, btype='low', analog=False)\n",
    "\n",
    "# applying filter\n",
    "data_pivot['dist_filter'] = filtfilt(b, a, data_pivot['dist'])\n"
   ]
  },
  {
   "attachments": {},
   "cell_type": "markdown",
   "metadata": {},
   "source": [
    "### Normalizing the distance\n",
    "\n",
    "`we normalize the distance by dividing by the maximum distance to avoid the variation of the hand distance to the camera`"
   ]
  },
  {
   "cell_type": "code",
   "execution_count": 8,
   "metadata": {},
   "outputs": [],
   "source": [
    "from sklearn.preprocessing import minmax_scale\n",
    "#data_pivot['dist_norm'] = minmax_scale(data_pivot['dist'])\n",
    "data_pivot['dist_norm'] = minmax_scale(data_pivot['dist_filter'])"
   ]
  },
  {
   "attachments": {},
   "cell_type": "markdown",
   "metadata": {},
   "source": [
    "### Calculating local minima\n",
    "\n",
    "`when the distance comes to zero, the thumb and the index finger are pressed together. When the distance comes to one, the thumb and the index finger are pulled apart at most. The wave form of one cycle can be viewed as a tapping, shown in Figure 3(a). The mark ‘x’ in yellow represents the local minimal point`"
   ]
  },
  {
   "cell_type": "code",
   "execution_count": 9,
   "metadata": {},
   "outputs": [
    {
     "data": {
      "text/plain": [
       "False    112\n",
       "True      13\n",
       "Name: flag_minima_rolling, dtype: int64"
      ]
     },
     "execution_count": 9,
     "metadata": {},
     "output_type": "execute_result"
    }
   ],
   "source": [
    "# https://stackoverflow.com/a/74964697/11233264\n",
    "data_pivot['flag_minima_rolling'] = np.where(data_pivot['dist_norm'] == data_pivot['dist_norm'].rolling(5, center=True).min(), True, False)\n",
    "\n",
    "data_pivot['flag_minima_rolling'].value_counts(dropna=False, normalize=False).head()"
   ]
  },
  {
   "cell_type": "code",
   "execution_count": 10,
   "metadata": {},
   "outputs": [
    {
     "data": {
      "application/vnd.plotly.v1+json": {
       "config": {
        "plotlyServerURL": "https://plot.ly"
       },
       "data": [
        {
         "marker": {
          "color": [
           "blue",
           "blue",
           "blue",
           "blue",
           "blue",
           "blue",
           "blue",
           "red",
           "blue",
           "blue",
           "blue",
           "blue",
           "blue",
           "blue",
           "blue",
           "blue",
           "red",
           "blue",
           "blue",
           "blue",
           "blue",
           "blue",
           "blue",
           "blue",
           "blue",
           "red",
           "blue",
           "blue",
           "blue",
           "blue",
           "blue",
           "blue",
           "blue",
           "blue",
           "blue",
           "red",
           "blue",
           "blue",
           "blue",
           "blue",
           "blue",
           "blue",
           "blue",
           "blue",
           "red",
           "blue",
           "blue",
           "blue",
           "blue",
           "blue",
           "blue",
           "blue",
           "blue",
           "blue",
           "red",
           "blue",
           "blue",
           "blue",
           "blue",
           "blue",
           "blue",
           "blue",
           "blue",
           "red",
           "blue",
           "blue",
           "blue",
           "blue",
           "blue",
           "blue",
           "blue",
           "blue",
           "red",
           "blue",
           "blue",
           "blue",
           "blue",
           "blue",
           "blue",
           "blue",
           "blue",
           "blue",
           "red",
           "blue",
           "blue",
           "blue",
           "blue",
           "blue",
           "blue",
           "blue",
           "blue",
           "blue",
           "red",
           "blue",
           "blue",
           "blue",
           "blue",
           "blue",
           "blue",
           "blue",
           "blue",
           "red",
           "blue",
           "blue",
           "blue",
           "blue",
           "blue",
           "blue",
           "blue",
           "blue",
           "red",
           "blue",
           "blue",
           "blue",
           "blue",
           "blue",
           "blue",
           "blue",
           "blue",
           "blue",
           "red",
           "blue",
           "blue",
           "blue",
           "blue"
          ]
         },
         "mode": "markers+lines",
         "type": "scatter",
         "x": [
          0,
          1,
          2,
          3,
          4,
          5,
          6,
          7,
          8,
          9,
          10,
          11,
          12,
          13,
          14,
          15,
          16,
          17,
          18,
          19,
          20,
          21,
          22,
          23,
          24,
          25,
          26,
          27,
          28,
          29,
          30,
          31,
          32,
          33,
          34,
          35,
          36,
          37,
          38,
          39,
          40,
          41,
          42,
          43,
          44,
          45,
          46,
          47,
          48,
          49,
          50,
          51,
          52,
          53,
          54,
          55,
          56,
          57,
          58,
          59,
          60,
          61,
          62,
          63,
          64,
          65,
          66,
          67,
          68,
          69,
          70,
          71,
          72,
          73,
          74,
          75,
          76,
          77,
          78,
          79,
          80,
          81,
          82,
          83,
          84,
          85,
          86,
          87,
          88,
          89,
          90,
          91,
          92,
          93,
          94,
          95,
          96,
          97,
          98,
          99,
          100,
          101,
          102,
          103,
          104,
          105,
          106,
          107,
          108,
          109,
          110,
          111,
          112,
          113,
          114,
          115,
          116,
          117,
          118,
          119,
          120,
          121,
          122,
          123,
          124
         ],
         "y": [
          0.5529078534024419,
          0.8074854336471993,
          0.9264720486944694,
          0.8375870664881663,
          0.5768154270901976,
          0.2773992155156042,
          0.07822337068174608,
          0.04289263330343583,
          0.17681778208166063,
          0.44845531387703974,
          0.7545179520746101,
          0.941553437851866,
          0.9043438539233888,
          0.6573380839234207,
          0.33489546609959203,
          0.09811246899556351,
          0.02052400909625818,
          0.10171054450540402,
          0.32629474117472423,
          0.621684329547144,
          0.8370225154505069,
          0.8428146113718772,
          0.6317126061975015,
          0.3283902364267728,
          0.09251209950404858,
          0,
          0.050327734857043865,
          0.23034932847048314,
          0.49378031308323794,
          0.7377669811110676,
          0.8602021166231665,
          0.8095889819675196,
          0.5970008113895089,
          0.31565513827715547,
          0.09904283010057145,
          0.022327517260172465,
          0.09482891500986841,
          0.3021744766197747,
          0.5756506166419161,
          0.7871812995641466,
          0.8367902203317618,
          0.7084037379401983,
          0.45975423306950775,
          0.2017280448190259,
          0.04688437445633041,
          0.054451400929307045,
          0.2291348407401754,
          0.5202113484372564,
          0.8122966819531598,
          0.9743822779605137,
          0.9268197557462058,
          0.6807277560546744,
          0.35642345142632537,
          0.11501829456919296,
          0.04078526356570192,
          0.13300929568003242,
          0.3549473215038541,
          0.6165198117731934,
          0.7780520407380667,
          0.7400559785318053,
          0.5229724929665684,
          0.25561193616119854,
          0.07538992019473523,
          0.04046967733160837,
          0.14680003513694453,
          0.3648313479587489,
          0.6131965456354418,
          0.7655069591080227,
          0.734002668148487,
          0.5357447954199019,
          0.28511111601086714,
          0.11124922890967516,
          0.07222047433767248,
          0.16452254382189793,
          0.36418309900576434,
          0.6103587417389884,
          0.8020592127301651,
          0.8493494774935489,
          0.7196650462115896,
          0.4645305820906629,
          0.20565376416754433,
          0.05222807200224546,
          0.04370309197442353,
          0.17658236173472222,
          0.4187508897454559,
          0.6879233376187999,
          0.8793158363914054,
          0.9214574423824111,
          0.7929040225122327,
          0.5343867368131238,
          0.25665580498374463,
          0.08013809388578164,
          0.06859588129402319,
          0.23327105267975942,
          0.5297151931159578,
          0.8353853122062411,
          1,
          0.9337691802888248,
          0.659867350673528,
          0.3162932611761142,
          0.0694027210344615,
          0.005741024721734458,
          0.1313631195127428,
          0.40766487275468155,
          0.7325243440973402,
          0.9613016109655684,
          0.9908375197600363,
          0.8069322568605047,
          0.4911796445356826,
          0.19373848583884434,
          0.04440135676012201,
          0.08618157928054962,
          0.28783015583223553,
          0.5631567696607779,
          0.7915264391680714,
          0.8734261422195208,
          0.7710447547839694,
          0.5223338100629045,
          0.24164716649382367,
          0.05815325879845691,
          0.036099315109674714,
          0.16987541087399297,
          0.4066837926605854,
          0.6669121586684214,
          0.905472872540455
         ]
        }
       ],
       "layout": {
        "template": {
         "data": {
          "bar": [
           {
            "error_x": {
             "color": "#2a3f5f"
            },
            "error_y": {
             "color": "#2a3f5f"
            },
            "marker": {
             "line": {
              "color": "#E5ECF6",
              "width": 0.5
             },
             "pattern": {
              "fillmode": "overlay",
              "size": 10,
              "solidity": 0.2
             }
            },
            "type": "bar"
           }
          ],
          "barpolar": [
           {
            "marker": {
             "line": {
              "color": "#E5ECF6",
              "width": 0.5
             },
             "pattern": {
              "fillmode": "overlay",
              "size": 10,
              "solidity": 0.2
             }
            },
            "type": "barpolar"
           }
          ],
          "carpet": [
           {
            "aaxis": {
             "endlinecolor": "#2a3f5f",
             "gridcolor": "white",
             "linecolor": "white",
             "minorgridcolor": "white",
             "startlinecolor": "#2a3f5f"
            },
            "baxis": {
             "endlinecolor": "#2a3f5f",
             "gridcolor": "white",
             "linecolor": "white",
             "minorgridcolor": "white",
             "startlinecolor": "#2a3f5f"
            },
            "type": "carpet"
           }
          ],
          "choropleth": [
           {
            "colorbar": {
             "outlinewidth": 0,
             "ticks": ""
            },
            "type": "choropleth"
           }
          ],
          "contour": [
           {
            "colorbar": {
             "outlinewidth": 0,
             "ticks": ""
            },
            "colorscale": [
             [
              0,
              "#0d0887"
             ],
             [
              0.1111111111111111,
              "#46039f"
             ],
             [
              0.2222222222222222,
              "#7201a8"
             ],
             [
              0.3333333333333333,
              "#9c179e"
             ],
             [
              0.4444444444444444,
              "#bd3786"
             ],
             [
              0.5555555555555556,
              "#d8576b"
             ],
             [
              0.6666666666666666,
              "#ed7953"
             ],
             [
              0.7777777777777778,
              "#fb9f3a"
             ],
             [
              0.8888888888888888,
              "#fdca26"
             ],
             [
              1,
              "#f0f921"
             ]
            ],
            "type": "contour"
           }
          ],
          "contourcarpet": [
           {
            "colorbar": {
             "outlinewidth": 0,
             "ticks": ""
            },
            "type": "contourcarpet"
           }
          ],
          "heatmap": [
           {
            "colorbar": {
             "outlinewidth": 0,
             "ticks": ""
            },
            "colorscale": [
             [
              0,
              "#0d0887"
             ],
             [
              0.1111111111111111,
              "#46039f"
             ],
             [
              0.2222222222222222,
              "#7201a8"
             ],
             [
              0.3333333333333333,
              "#9c179e"
             ],
             [
              0.4444444444444444,
              "#bd3786"
             ],
             [
              0.5555555555555556,
              "#d8576b"
             ],
             [
              0.6666666666666666,
              "#ed7953"
             ],
             [
              0.7777777777777778,
              "#fb9f3a"
             ],
             [
              0.8888888888888888,
              "#fdca26"
             ],
             [
              1,
              "#f0f921"
             ]
            ],
            "type": "heatmap"
           }
          ],
          "heatmapgl": [
           {
            "colorbar": {
             "outlinewidth": 0,
             "ticks": ""
            },
            "colorscale": [
             [
              0,
              "#0d0887"
             ],
             [
              0.1111111111111111,
              "#46039f"
             ],
             [
              0.2222222222222222,
              "#7201a8"
             ],
             [
              0.3333333333333333,
              "#9c179e"
             ],
             [
              0.4444444444444444,
              "#bd3786"
             ],
             [
              0.5555555555555556,
              "#d8576b"
             ],
             [
              0.6666666666666666,
              "#ed7953"
             ],
             [
              0.7777777777777778,
              "#fb9f3a"
             ],
             [
              0.8888888888888888,
              "#fdca26"
             ],
             [
              1,
              "#f0f921"
             ]
            ],
            "type": "heatmapgl"
           }
          ],
          "histogram": [
           {
            "marker": {
             "pattern": {
              "fillmode": "overlay",
              "size": 10,
              "solidity": 0.2
             }
            },
            "type": "histogram"
           }
          ],
          "histogram2d": [
           {
            "colorbar": {
             "outlinewidth": 0,
             "ticks": ""
            },
            "colorscale": [
             [
              0,
              "#0d0887"
             ],
             [
              0.1111111111111111,
              "#46039f"
             ],
             [
              0.2222222222222222,
              "#7201a8"
             ],
             [
              0.3333333333333333,
              "#9c179e"
             ],
             [
              0.4444444444444444,
              "#bd3786"
             ],
             [
              0.5555555555555556,
              "#d8576b"
             ],
             [
              0.6666666666666666,
              "#ed7953"
             ],
             [
              0.7777777777777778,
              "#fb9f3a"
             ],
             [
              0.8888888888888888,
              "#fdca26"
             ],
             [
              1,
              "#f0f921"
             ]
            ],
            "type": "histogram2d"
           }
          ],
          "histogram2dcontour": [
           {
            "colorbar": {
             "outlinewidth": 0,
             "ticks": ""
            },
            "colorscale": [
             [
              0,
              "#0d0887"
             ],
             [
              0.1111111111111111,
              "#46039f"
             ],
             [
              0.2222222222222222,
              "#7201a8"
             ],
             [
              0.3333333333333333,
              "#9c179e"
             ],
             [
              0.4444444444444444,
              "#bd3786"
             ],
             [
              0.5555555555555556,
              "#d8576b"
             ],
             [
              0.6666666666666666,
              "#ed7953"
             ],
             [
              0.7777777777777778,
              "#fb9f3a"
             ],
             [
              0.8888888888888888,
              "#fdca26"
             ],
             [
              1,
              "#f0f921"
             ]
            ],
            "type": "histogram2dcontour"
           }
          ],
          "mesh3d": [
           {
            "colorbar": {
             "outlinewidth": 0,
             "ticks": ""
            },
            "type": "mesh3d"
           }
          ],
          "parcoords": [
           {
            "line": {
             "colorbar": {
              "outlinewidth": 0,
              "ticks": ""
             }
            },
            "type": "parcoords"
           }
          ],
          "pie": [
           {
            "automargin": true,
            "type": "pie"
           }
          ],
          "scatter": [
           {
            "fillpattern": {
             "fillmode": "overlay",
             "size": 10,
             "solidity": 0.2
            },
            "type": "scatter"
           }
          ],
          "scatter3d": [
           {
            "line": {
             "colorbar": {
              "outlinewidth": 0,
              "ticks": ""
             }
            },
            "marker": {
             "colorbar": {
              "outlinewidth": 0,
              "ticks": ""
             }
            },
            "type": "scatter3d"
           }
          ],
          "scattercarpet": [
           {
            "marker": {
             "colorbar": {
              "outlinewidth": 0,
              "ticks": ""
             }
            },
            "type": "scattercarpet"
           }
          ],
          "scattergeo": [
           {
            "marker": {
             "colorbar": {
              "outlinewidth": 0,
              "ticks": ""
             }
            },
            "type": "scattergeo"
           }
          ],
          "scattergl": [
           {
            "marker": {
             "colorbar": {
              "outlinewidth": 0,
              "ticks": ""
             }
            },
            "type": "scattergl"
           }
          ],
          "scattermapbox": [
           {
            "marker": {
             "colorbar": {
              "outlinewidth": 0,
              "ticks": ""
             }
            },
            "type": "scattermapbox"
           }
          ],
          "scatterpolar": [
           {
            "marker": {
             "colorbar": {
              "outlinewidth": 0,
              "ticks": ""
             }
            },
            "type": "scatterpolar"
           }
          ],
          "scatterpolargl": [
           {
            "marker": {
             "colorbar": {
              "outlinewidth": 0,
              "ticks": ""
             }
            },
            "type": "scatterpolargl"
           }
          ],
          "scatterternary": [
           {
            "marker": {
             "colorbar": {
              "outlinewidth": 0,
              "ticks": ""
             }
            },
            "type": "scatterternary"
           }
          ],
          "surface": [
           {
            "colorbar": {
             "outlinewidth": 0,
             "ticks": ""
            },
            "colorscale": [
             [
              0,
              "#0d0887"
             ],
             [
              0.1111111111111111,
              "#46039f"
             ],
             [
              0.2222222222222222,
              "#7201a8"
             ],
             [
              0.3333333333333333,
              "#9c179e"
             ],
             [
              0.4444444444444444,
              "#bd3786"
             ],
             [
              0.5555555555555556,
              "#d8576b"
             ],
             [
              0.6666666666666666,
              "#ed7953"
             ],
             [
              0.7777777777777778,
              "#fb9f3a"
             ],
             [
              0.8888888888888888,
              "#fdca26"
             ],
             [
              1,
              "#f0f921"
             ]
            ],
            "type": "surface"
           }
          ],
          "table": [
           {
            "cells": {
             "fill": {
              "color": "#EBF0F8"
             },
             "line": {
              "color": "white"
             }
            },
            "header": {
             "fill": {
              "color": "#C8D4E3"
             },
             "line": {
              "color": "white"
             }
            },
            "type": "table"
           }
          ]
         },
         "layout": {
          "annotationdefaults": {
           "arrowcolor": "#2a3f5f",
           "arrowhead": 0,
           "arrowwidth": 1
          },
          "autotypenumbers": "strict",
          "coloraxis": {
           "colorbar": {
            "outlinewidth": 0,
            "ticks": ""
           }
          },
          "colorscale": {
           "diverging": [
            [
             0,
             "#8e0152"
            ],
            [
             0.1,
             "#c51b7d"
            ],
            [
             0.2,
             "#de77ae"
            ],
            [
             0.3,
             "#f1b6da"
            ],
            [
             0.4,
             "#fde0ef"
            ],
            [
             0.5,
             "#f7f7f7"
            ],
            [
             0.6,
             "#e6f5d0"
            ],
            [
             0.7,
             "#b8e186"
            ],
            [
             0.8,
             "#7fbc41"
            ],
            [
             0.9,
             "#4d9221"
            ],
            [
             1,
             "#276419"
            ]
           ],
           "sequential": [
            [
             0,
             "#0d0887"
            ],
            [
             0.1111111111111111,
             "#46039f"
            ],
            [
             0.2222222222222222,
             "#7201a8"
            ],
            [
             0.3333333333333333,
             "#9c179e"
            ],
            [
             0.4444444444444444,
             "#bd3786"
            ],
            [
             0.5555555555555556,
             "#d8576b"
            ],
            [
             0.6666666666666666,
             "#ed7953"
            ],
            [
             0.7777777777777778,
             "#fb9f3a"
            ],
            [
             0.8888888888888888,
             "#fdca26"
            ],
            [
             1,
             "#f0f921"
            ]
           ],
           "sequentialminus": [
            [
             0,
             "#0d0887"
            ],
            [
             0.1111111111111111,
             "#46039f"
            ],
            [
             0.2222222222222222,
             "#7201a8"
            ],
            [
             0.3333333333333333,
             "#9c179e"
            ],
            [
             0.4444444444444444,
             "#bd3786"
            ],
            [
             0.5555555555555556,
             "#d8576b"
            ],
            [
             0.6666666666666666,
             "#ed7953"
            ],
            [
             0.7777777777777778,
             "#fb9f3a"
            ],
            [
             0.8888888888888888,
             "#fdca26"
            ],
            [
             1,
             "#f0f921"
            ]
           ]
          },
          "colorway": [
           "#636efa",
           "#EF553B",
           "#00cc96",
           "#ab63fa",
           "#FFA15A",
           "#19d3f3",
           "#FF6692",
           "#B6E880",
           "#FF97FF",
           "#FECB52"
          ],
          "font": {
           "color": "#2a3f5f"
          },
          "geo": {
           "bgcolor": "white",
           "lakecolor": "white",
           "landcolor": "#E5ECF6",
           "showlakes": true,
           "showland": true,
           "subunitcolor": "white"
          },
          "hoverlabel": {
           "align": "left"
          },
          "hovermode": "closest",
          "mapbox": {
           "style": "light"
          },
          "paper_bgcolor": "white",
          "plot_bgcolor": "#E5ECF6",
          "polar": {
           "angularaxis": {
            "gridcolor": "white",
            "linecolor": "white",
            "ticks": ""
           },
           "bgcolor": "#E5ECF6",
           "radialaxis": {
            "gridcolor": "white",
            "linecolor": "white",
            "ticks": ""
           }
          },
          "scene": {
           "xaxis": {
            "backgroundcolor": "#E5ECF6",
            "gridcolor": "white",
            "gridwidth": 2,
            "linecolor": "white",
            "showbackground": true,
            "ticks": "",
            "zerolinecolor": "white"
           },
           "yaxis": {
            "backgroundcolor": "#E5ECF6",
            "gridcolor": "white",
            "gridwidth": 2,
            "linecolor": "white",
            "showbackground": true,
            "ticks": "",
            "zerolinecolor": "white"
           },
           "zaxis": {
            "backgroundcolor": "#E5ECF6",
            "gridcolor": "white",
            "gridwidth": 2,
            "linecolor": "white",
            "showbackground": true,
            "ticks": "",
            "zerolinecolor": "white"
           }
          },
          "shapedefaults": {
           "line": {
            "color": "#2a3f5f"
           }
          },
          "ternary": {
           "aaxis": {
            "gridcolor": "white",
            "linecolor": "white",
            "ticks": ""
           },
           "baxis": {
            "gridcolor": "white",
            "linecolor": "white",
            "ticks": ""
           },
           "bgcolor": "#E5ECF6",
           "caxis": {
            "gridcolor": "white",
            "linecolor": "white",
            "ticks": ""
           }
          },
          "title": {
           "x": 0.05
          },
          "xaxis": {
           "automargin": true,
           "gridcolor": "white",
           "linecolor": "white",
           "ticks": "",
           "title": {
            "standoff": 15
           },
           "zerolinecolor": "white",
           "zerolinewidth": 2
          },
          "yaxis": {
           "automargin": true,
           "gridcolor": "white",
           "linecolor": "white",
           "ticks": "",
           "title": {
            "standoff": 15
           },
           "zerolinecolor": "white",
           "zerolinewidth": 2
          }
         }
        },
        "title": {
         "text": "R00001 - Distance <b>WITH</b> filter"
        }
       }
      }
     },
     "metadata": {},
     "output_type": "display_data"
    }
   ],
   "source": [
    "import plotly.graph_objects as go\n",
    "\n",
    "fig = go.Figure()\n",
    "fig.add_trace(go.Scatter(x=data_pivot['frame'], y=data_pivot['dist_norm'], mode='markers+lines', \n",
    "                         marker_color=data_pivot['flag_minima_rolling'].map({True: 'red', False: 'blue'})))\n",
    "\n",
    "fig.update_layout(title=f'{participant.replace(\".avi\", \"\")} - Distance <b>WITH</b> filter').show()"
   ]
  },
  {
   "cell_type": "code",
   "execution_count": 11,
   "metadata": {},
   "outputs": [
    {
     "data": {
      "application/vnd.plotly.v1+json": {
       "config": {
        "plotlyServerURL": "https://plot.ly"
       },
       "data": [
        {
         "marker": {
          "color": [
           "blue",
           "blue",
           "blue",
           "blue",
           "blue",
           "blue",
           "blue",
           "red",
           "blue",
           "blue",
           "blue",
           "blue",
           "blue",
           "blue",
           "blue",
           "blue",
           "red",
           "blue",
           "blue",
           "blue",
           "blue",
           "blue",
           "blue",
           "blue",
           "blue",
           "red",
           "blue",
           "blue",
           "blue",
           "blue",
           "blue",
           "blue",
           "blue",
           "blue",
           "blue",
           "red",
           "blue",
           "blue",
           "blue",
           "blue",
           "blue",
           "blue",
           "blue",
           "blue",
           "red",
           "blue",
           "blue",
           "blue",
           "blue",
           "blue",
           "blue",
           "blue",
           "blue",
           "blue",
           "red",
           "blue",
           "blue",
           "blue",
           "blue",
           "blue",
           "blue",
           "blue",
           "blue",
           "red",
           "blue",
           "blue",
           "blue",
           "blue",
           "blue",
           "blue",
           "blue",
           "blue",
           "red",
           "blue",
           "blue",
           "blue",
           "blue",
           "blue",
           "blue",
           "blue",
           "blue",
           "blue",
           "red",
           "blue",
           "blue",
           "blue",
           "blue",
           "blue",
           "blue",
           "blue",
           "blue",
           "blue",
           "red",
           "blue",
           "blue",
           "blue",
           "blue",
           "blue",
           "blue",
           "blue",
           "blue",
           "red",
           "blue",
           "blue",
           "blue",
           "blue",
           "blue",
           "blue",
           "blue",
           "blue",
           "red",
           "blue",
           "blue",
           "blue",
           "blue",
           "blue",
           "blue",
           "blue",
           "blue",
           "blue",
           "red",
           "blue",
           "blue",
           "blue",
           "blue"
          ]
         },
         "mode": "markers+lines",
         "type": "scatter",
         "x": [
          0,
          1,
          2,
          3,
          4,
          5,
          6,
          7,
          8,
          9,
          10,
          11,
          12,
          13,
          14,
          15,
          16,
          17,
          18,
          19,
          20,
          21,
          22,
          23,
          24,
          25,
          26,
          27,
          28,
          29,
          30,
          31,
          32,
          33,
          34,
          35,
          36,
          37,
          38,
          39,
          40,
          41,
          42,
          43,
          44,
          45,
          46,
          47,
          48,
          49,
          50,
          51,
          52,
          53,
          54,
          55,
          56,
          57,
          58,
          59,
          60,
          61,
          62,
          63,
          64,
          65,
          66,
          67,
          68,
          69,
          70,
          71,
          72,
          73,
          74,
          75,
          76,
          77,
          78,
          79,
          80,
          81,
          82,
          83,
          84,
          85,
          86,
          87,
          88,
          89,
          90,
          91,
          92,
          93,
          94,
          95,
          96,
          97,
          98,
          99,
          100,
          101,
          102,
          103,
          104,
          105,
          106,
          107,
          108,
          109,
          110,
          111,
          112,
          113,
          114,
          115,
          116,
          117,
          118,
          119,
          120,
          121,
          122,
          123,
          124
         ],
         "y": [
          0.1806647608982409,
          0.2907822063996648,
          0.3296266983304211,
          0.3225781068679379,
          0.2045221735531599,
          0.018829308561600696,
          0.016549229628461642,
          0.023387636147204217,
          0.0209590495984331,
          0.09233529860841182,
          0.30281486715813793,
          0.3328884230374857,
          0.33055864309272986,
          0.27789485305500194,
          0.007991041739706557,
          0.012411420602155084,
          0.028977938092183596,
          0.025247262763694545,
          0.007578282802667054,
          0.2604221882388513,
          0.30165944685909907,
          0.3114918191632949,
          0.2720425140310613,
          0.005210354626720784,
          0.013091706874557464,
          0.015295616093833892,
          0.008377735652771522,
          0.010246407393053233,
          0.18381537363244774,
          0.26968172665409146,
          0.2843518102620425,
          0.27906653114143765,
          0.27550325094575523,
          0.009550065067365983,
          0.017378719781650176,
          0.017551067171965626,
          0.022679218036559534,
          0.01279370157204845,
          0.24618756600820982,
          0.28118242000398247,
          0.2849564113816485,
          0.25282167857551047,
          0.1723471296729136,
          0.005375443371028599,
          0.00799981099506899,
          0.019108795850406653,
          0.014282502265306578,
          0.1741962378336499,
          0.29905834466387243,
          0.33194002746808654,
          0.3362887228234493,
          0.29574223658622534,
          0.020274074545310956,
          0.01279932117748406,
          0.03131596600315265,
          0.016128059970044198,
          0.06217561360341396,
          0.23730905812223219,
          0.2901039994225943,
          0.2810669816459567,
          0.19531946291783903,
          0.006165363184846207,
          0.012325987280077463,
          0.022573772434968026,
          0.026400131961030682,
          0.06176027512589739,
          0.24530150096680425,
          0.2758050267814833,
          0.26799391683030355,
          0.2140994328175359,
          0.013959801993839482,
          0.024769649908142673,
          0.03110426847042208,
          0.0386080867955294,
          0.07202081953293837,
          0.2312254057379414,
          0.27408031553973594,
          0.29160340601227214,
          0.2904651104136523,
          0.13927102446560427,
          0.009834941707298312,
          0.014910777572027174,
          0.019827947278360975,
          0.01393382482386232,
          0.11947879599747432,
          0.2614052606605959,
          0.2972367235020569,
          0.3062455707315883,
          0.30586145217843846,
          0.19058537252197585,
          0.0198368850283114,
          0.023184856147474404,
          0.02833785532567948,
          0.008157363773865412,
          0.16977478401800164,
          0.3112447715088742,
          0.3500862795004119,
          0.3483566173360172,
          0.2678766881347019,
          0.010711177710731429,
          0.00963264774992817,
          0.0059220195480246375,
          0.014740080442988128,
          0.07705800898950592,
          0.29762991044087583,
          0.3337017285650765,
          0.34022017850246833,
          0.32159647941946795,
          0.14344605084136788,
          0.007562428079516207,
          0.0006135977257106429,
          0.024633985566801905,
          0.04088139606252038,
          0.2184475334442763,
          0.2768932818000407,
          0.29814458452179315,
          0.28391089260654967,
          0.2058254223547849,
          0.0044424717983874255,
          0.009015639274092303,
          0.010977092021915828,
          0.00730063051157968,
          0.14974866218816477,
          0.263212460234665,
          0.3015955862953213
         ]
        }
       ],
       "layout": {
        "template": {
         "data": {
          "bar": [
           {
            "error_x": {
             "color": "#2a3f5f"
            },
            "error_y": {
             "color": "#2a3f5f"
            },
            "marker": {
             "line": {
              "color": "#E5ECF6",
              "width": 0.5
             },
             "pattern": {
              "fillmode": "overlay",
              "size": 10,
              "solidity": 0.2
             }
            },
            "type": "bar"
           }
          ],
          "barpolar": [
           {
            "marker": {
             "line": {
              "color": "#E5ECF6",
              "width": 0.5
             },
             "pattern": {
              "fillmode": "overlay",
              "size": 10,
              "solidity": 0.2
             }
            },
            "type": "barpolar"
           }
          ],
          "carpet": [
           {
            "aaxis": {
             "endlinecolor": "#2a3f5f",
             "gridcolor": "white",
             "linecolor": "white",
             "minorgridcolor": "white",
             "startlinecolor": "#2a3f5f"
            },
            "baxis": {
             "endlinecolor": "#2a3f5f",
             "gridcolor": "white",
             "linecolor": "white",
             "minorgridcolor": "white",
             "startlinecolor": "#2a3f5f"
            },
            "type": "carpet"
           }
          ],
          "choropleth": [
           {
            "colorbar": {
             "outlinewidth": 0,
             "ticks": ""
            },
            "type": "choropleth"
           }
          ],
          "contour": [
           {
            "colorbar": {
             "outlinewidth": 0,
             "ticks": ""
            },
            "colorscale": [
             [
              0,
              "#0d0887"
             ],
             [
              0.1111111111111111,
              "#46039f"
             ],
             [
              0.2222222222222222,
              "#7201a8"
             ],
             [
              0.3333333333333333,
              "#9c179e"
             ],
             [
              0.4444444444444444,
              "#bd3786"
             ],
             [
              0.5555555555555556,
              "#d8576b"
             ],
             [
              0.6666666666666666,
              "#ed7953"
             ],
             [
              0.7777777777777778,
              "#fb9f3a"
             ],
             [
              0.8888888888888888,
              "#fdca26"
             ],
             [
              1,
              "#f0f921"
             ]
            ],
            "type": "contour"
           }
          ],
          "contourcarpet": [
           {
            "colorbar": {
             "outlinewidth": 0,
             "ticks": ""
            },
            "type": "contourcarpet"
           }
          ],
          "heatmap": [
           {
            "colorbar": {
             "outlinewidth": 0,
             "ticks": ""
            },
            "colorscale": [
             [
              0,
              "#0d0887"
             ],
             [
              0.1111111111111111,
              "#46039f"
             ],
             [
              0.2222222222222222,
              "#7201a8"
             ],
             [
              0.3333333333333333,
              "#9c179e"
             ],
             [
              0.4444444444444444,
              "#bd3786"
             ],
             [
              0.5555555555555556,
              "#d8576b"
             ],
             [
              0.6666666666666666,
              "#ed7953"
             ],
             [
              0.7777777777777778,
              "#fb9f3a"
             ],
             [
              0.8888888888888888,
              "#fdca26"
             ],
             [
              1,
              "#f0f921"
             ]
            ],
            "type": "heatmap"
           }
          ],
          "heatmapgl": [
           {
            "colorbar": {
             "outlinewidth": 0,
             "ticks": ""
            },
            "colorscale": [
             [
              0,
              "#0d0887"
             ],
             [
              0.1111111111111111,
              "#46039f"
             ],
             [
              0.2222222222222222,
              "#7201a8"
             ],
             [
              0.3333333333333333,
              "#9c179e"
             ],
             [
              0.4444444444444444,
              "#bd3786"
             ],
             [
              0.5555555555555556,
              "#d8576b"
             ],
             [
              0.6666666666666666,
              "#ed7953"
             ],
             [
              0.7777777777777778,
              "#fb9f3a"
             ],
             [
              0.8888888888888888,
              "#fdca26"
             ],
             [
              1,
              "#f0f921"
             ]
            ],
            "type": "heatmapgl"
           }
          ],
          "histogram": [
           {
            "marker": {
             "pattern": {
              "fillmode": "overlay",
              "size": 10,
              "solidity": 0.2
             }
            },
            "type": "histogram"
           }
          ],
          "histogram2d": [
           {
            "colorbar": {
             "outlinewidth": 0,
             "ticks": ""
            },
            "colorscale": [
             [
              0,
              "#0d0887"
             ],
             [
              0.1111111111111111,
              "#46039f"
             ],
             [
              0.2222222222222222,
              "#7201a8"
             ],
             [
              0.3333333333333333,
              "#9c179e"
             ],
             [
              0.4444444444444444,
              "#bd3786"
             ],
             [
              0.5555555555555556,
              "#d8576b"
             ],
             [
              0.6666666666666666,
              "#ed7953"
             ],
             [
              0.7777777777777778,
              "#fb9f3a"
             ],
             [
              0.8888888888888888,
              "#fdca26"
             ],
             [
              1,
              "#f0f921"
             ]
            ],
            "type": "histogram2d"
           }
          ],
          "histogram2dcontour": [
           {
            "colorbar": {
             "outlinewidth": 0,
             "ticks": ""
            },
            "colorscale": [
             [
              0,
              "#0d0887"
             ],
             [
              0.1111111111111111,
              "#46039f"
             ],
             [
              0.2222222222222222,
              "#7201a8"
             ],
             [
              0.3333333333333333,
              "#9c179e"
             ],
             [
              0.4444444444444444,
              "#bd3786"
             ],
             [
              0.5555555555555556,
              "#d8576b"
             ],
             [
              0.6666666666666666,
              "#ed7953"
             ],
             [
              0.7777777777777778,
              "#fb9f3a"
             ],
             [
              0.8888888888888888,
              "#fdca26"
             ],
             [
              1,
              "#f0f921"
             ]
            ],
            "type": "histogram2dcontour"
           }
          ],
          "mesh3d": [
           {
            "colorbar": {
             "outlinewidth": 0,
             "ticks": ""
            },
            "type": "mesh3d"
           }
          ],
          "parcoords": [
           {
            "line": {
             "colorbar": {
              "outlinewidth": 0,
              "ticks": ""
             }
            },
            "type": "parcoords"
           }
          ],
          "pie": [
           {
            "automargin": true,
            "type": "pie"
           }
          ],
          "scatter": [
           {
            "fillpattern": {
             "fillmode": "overlay",
             "size": 10,
             "solidity": 0.2
            },
            "type": "scatter"
           }
          ],
          "scatter3d": [
           {
            "line": {
             "colorbar": {
              "outlinewidth": 0,
              "ticks": ""
             }
            },
            "marker": {
             "colorbar": {
              "outlinewidth": 0,
              "ticks": ""
             }
            },
            "type": "scatter3d"
           }
          ],
          "scattercarpet": [
           {
            "marker": {
             "colorbar": {
              "outlinewidth": 0,
              "ticks": ""
             }
            },
            "type": "scattercarpet"
           }
          ],
          "scattergeo": [
           {
            "marker": {
             "colorbar": {
              "outlinewidth": 0,
              "ticks": ""
             }
            },
            "type": "scattergeo"
           }
          ],
          "scattergl": [
           {
            "marker": {
             "colorbar": {
              "outlinewidth": 0,
              "ticks": ""
             }
            },
            "type": "scattergl"
           }
          ],
          "scattermapbox": [
           {
            "marker": {
             "colorbar": {
              "outlinewidth": 0,
              "ticks": ""
             }
            },
            "type": "scattermapbox"
           }
          ],
          "scatterpolar": [
           {
            "marker": {
             "colorbar": {
              "outlinewidth": 0,
              "ticks": ""
             }
            },
            "type": "scatterpolar"
           }
          ],
          "scatterpolargl": [
           {
            "marker": {
             "colorbar": {
              "outlinewidth": 0,
              "ticks": ""
             }
            },
            "type": "scatterpolargl"
           }
          ],
          "scatterternary": [
           {
            "marker": {
             "colorbar": {
              "outlinewidth": 0,
              "ticks": ""
             }
            },
            "type": "scatterternary"
           }
          ],
          "surface": [
           {
            "colorbar": {
             "outlinewidth": 0,
             "ticks": ""
            },
            "colorscale": [
             [
              0,
              "#0d0887"
             ],
             [
              0.1111111111111111,
              "#46039f"
             ],
             [
              0.2222222222222222,
              "#7201a8"
             ],
             [
              0.3333333333333333,
              "#9c179e"
             ],
             [
              0.4444444444444444,
              "#bd3786"
             ],
             [
              0.5555555555555556,
              "#d8576b"
             ],
             [
              0.6666666666666666,
              "#ed7953"
             ],
             [
              0.7777777777777778,
              "#fb9f3a"
             ],
             [
              0.8888888888888888,
              "#fdca26"
             ],
             [
              1,
              "#f0f921"
             ]
            ],
            "type": "surface"
           }
          ],
          "table": [
           {
            "cells": {
             "fill": {
              "color": "#EBF0F8"
             },
             "line": {
              "color": "white"
             }
            },
            "header": {
             "fill": {
              "color": "#C8D4E3"
             },
             "line": {
              "color": "white"
             }
            },
            "type": "table"
           }
          ]
         },
         "layout": {
          "annotationdefaults": {
           "arrowcolor": "#2a3f5f",
           "arrowhead": 0,
           "arrowwidth": 1
          },
          "autotypenumbers": "strict",
          "coloraxis": {
           "colorbar": {
            "outlinewidth": 0,
            "ticks": ""
           }
          },
          "colorscale": {
           "diverging": [
            [
             0,
             "#8e0152"
            ],
            [
             0.1,
             "#c51b7d"
            ],
            [
             0.2,
             "#de77ae"
            ],
            [
             0.3,
             "#f1b6da"
            ],
            [
             0.4,
             "#fde0ef"
            ],
            [
             0.5,
             "#f7f7f7"
            ],
            [
             0.6,
             "#e6f5d0"
            ],
            [
             0.7,
             "#b8e186"
            ],
            [
             0.8,
             "#7fbc41"
            ],
            [
             0.9,
             "#4d9221"
            ],
            [
             1,
             "#276419"
            ]
           ],
           "sequential": [
            [
             0,
             "#0d0887"
            ],
            [
             0.1111111111111111,
             "#46039f"
            ],
            [
             0.2222222222222222,
             "#7201a8"
            ],
            [
             0.3333333333333333,
             "#9c179e"
            ],
            [
             0.4444444444444444,
             "#bd3786"
            ],
            [
             0.5555555555555556,
             "#d8576b"
            ],
            [
             0.6666666666666666,
             "#ed7953"
            ],
            [
             0.7777777777777778,
             "#fb9f3a"
            ],
            [
             0.8888888888888888,
             "#fdca26"
            ],
            [
             1,
             "#f0f921"
            ]
           ],
           "sequentialminus": [
            [
             0,
             "#0d0887"
            ],
            [
             0.1111111111111111,
             "#46039f"
            ],
            [
             0.2222222222222222,
             "#7201a8"
            ],
            [
             0.3333333333333333,
             "#9c179e"
            ],
            [
             0.4444444444444444,
             "#bd3786"
            ],
            [
             0.5555555555555556,
             "#d8576b"
            ],
            [
             0.6666666666666666,
             "#ed7953"
            ],
            [
             0.7777777777777778,
             "#fb9f3a"
            ],
            [
             0.8888888888888888,
             "#fdca26"
            ],
            [
             1,
             "#f0f921"
            ]
           ]
          },
          "colorway": [
           "#636efa",
           "#EF553B",
           "#00cc96",
           "#ab63fa",
           "#FFA15A",
           "#19d3f3",
           "#FF6692",
           "#B6E880",
           "#FF97FF",
           "#FECB52"
          ],
          "font": {
           "color": "#2a3f5f"
          },
          "geo": {
           "bgcolor": "white",
           "lakecolor": "white",
           "landcolor": "#E5ECF6",
           "showlakes": true,
           "showland": true,
           "subunitcolor": "white"
          },
          "hoverlabel": {
           "align": "left"
          },
          "hovermode": "closest",
          "mapbox": {
           "style": "light"
          },
          "paper_bgcolor": "white",
          "plot_bgcolor": "#E5ECF6",
          "polar": {
           "angularaxis": {
            "gridcolor": "white",
            "linecolor": "white",
            "ticks": ""
           },
           "bgcolor": "#E5ECF6",
           "radialaxis": {
            "gridcolor": "white",
            "linecolor": "white",
            "ticks": ""
           }
          },
          "scene": {
           "xaxis": {
            "backgroundcolor": "#E5ECF6",
            "gridcolor": "white",
            "gridwidth": 2,
            "linecolor": "white",
            "showbackground": true,
            "ticks": "",
            "zerolinecolor": "white"
           },
           "yaxis": {
            "backgroundcolor": "#E5ECF6",
            "gridcolor": "white",
            "gridwidth": 2,
            "linecolor": "white",
            "showbackground": true,
            "ticks": "",
            "zerolinecolor": "white"
           },
           "zaxis": {
            "backgroundcolor": "#E5ECF6",
            "gridcolor": "white",
            "gridwidth": 2,
            "linecolor": "white",
            "showbackground": true,
            "ticks": "",
            "zerolinecolor": "white"
           }
          },
          "shapedefaults": {
           "line": {
            "color": "#2a3f5f"
           }
          },
          "ternary": {
           "aaxis": {
            "gridcolor": "white",
            "linecolor": "white",
            "ticks": ""
           },
           "baxis": {
            "gridcolor": "white",
            "linecolor": "white",
            "ticks": ""
           },
           "bgcolor": "#E5ECF6",
           "caxis": {
            "gridcolor": "white",
            "linecolor": "white",
            "ticks": ""
           }
          },
          "title": {
           "x": 0.05
          },
          "xaxis": {
           "automargin": true,
           "gridcolor": "white",
           "linecolor": "white",
           "ticks": "",
           "title": {
            "standoff": 15
           },
           "zerolinecolor": "white",
           "zerolinewidth": 2
          },
          "yaxis": {
           "automargin": true,
           "gridcolor": "white",
           "linecolor": "white",
           "ticks": "",
           "title": {
            "standoff": 15
           },
           "zerolinecolor": "white",
           "zerolinewidth": 2
          }
         }
        },
        "title": {
         "text": "R00001 - Distance <b>WITHOUT</b> filter"
        }
       }
      }
     },
     "metadata": {},
     "output_type": "display_data"
    }
   ],
   "source": [
    "import plotly.graph_objects as go\n",
    "\n",
    "fig = go.Figure()\n",
    "fig.add_trace(go.Scatter(x=data_pivot['frame'], y=data_pivot['dist'], mode='markers+lines', \n",
    "                         marker_color=data_pivot['flag_minima_rolling'].map({True: 'red', False: 'blue'})))\n",
    "\n",
    "fig.update_layout(title=f'{participant.replace(\".avi\", \"\")} - Distance <b>WITHOUT</b> filter').show()"
   ]
  },
  {
   "attachments": {},
   "cell_type": "markdown",
   "metadata": {},
   "source": [
    "### Tapping rate\n",
    "\n",
    "`the tapping rate can be calculated as the tapping number divided by time. For example, in the first row of Figure 3(b), the tapping rate is the number of ‘x’ mark, the local minimal point divided by five seconds. The tapping rate is 1.6 taps per second in this example.`"
   ]
  },
  {
   "cell_type": "code",
   "execution_count": 12,
   "metadata": {},
   "outputs": [
    {
     "data": {
      "text/plain": [
       "2.6"
      ]
     },
     "execution_count": 12,
     "metadata": {},
     "output_type": "execute_result"
    }
   ],
   "source": [
    "video_length_seconds = 5\n",
    "\n",
    "tapping_rate = data_pivot['flag_minima_rolling'].sum() / video_length_seconds\n",
    "tapping_rate"
   ]
  },
  {
   "attachments": {},
   "cell_type": "markdown",
   "metadata": {},
   "source": [
    "### Tapping frozen times\n",
    "\n",
    "`The frozen state is defined as the patient prolonging the current action for a while. In the second row of Figure 3(b), we can see there is an obvious flat line in the center of the wave form. We first calculate the first derivative of the wave form and take the range with small derivatives as the frozen interval. We take the number of the frozen interval as the feature of tapping frozen times.`\n",
    "\n",
    "In the paper the authors do not specify the threshold for the derivative. If the authors reply to my email and a different value is specified, this part will be updated."
   ]
  },
  {
   "cell_type": "code",
   "execution_count": 13,
   "metadata": {},
   "outputs": [],
   "source": [
    "frozen_threshold = 0.01\n",
    "\n",
    "\n",
    "\n",
    "data_pivot['dist_derivative'] = data_pivot['dist_norm'].diff()\n",
    "\n",
    "data_pivot['frozen_state'] = np.abs(data_pivot['dist_derivative']) < frozen_threshold"
   ]
  },
  {
   "cell_type": "code",
   "execution_count": 14,
   "metadata": {},
   "outputs": [
    {
     "data": {
      "text/plain": [
       "False    122\n",
       "True       3\n",
       "Name: frozen_state, dtype: int64"
      ]
     },
     "execution_count": 14,
     "metadata": {},
     "output_type": "execute_result"
    }
   ],
   "source": [
    "data_pivot['frozen_state'].value_counts()"
   ]
  },
  {
   "cell_type": "code",
   "execution_count": 15,
   "metadata": {},
   "outputs": [
    {
     "data": {
      "text/html": [
       "<div>\n",
       "<style scoped>\n",
       "    .dataframe tbody tr th:only-of-type {\n",
       "        vertical-align: middle;\n",
       "    }\n",
       "\n",
       "    .dataframe tbody tr th {\n",
       "        vertical-align: top;\n",
       "    }\n",
       "\n",
       "    .dataframe thead th {\n",
       "        text-align: right;\n",
       "    }\n",
       "</style>\n",
       "<table border=\"1\" class=\"dataframe\">\n",
       "  <thead>\n",
       "    <tr style=\"text-align: right;\">\n",
       "      <th></th>\n",
       "      <th>frame</th>\n",
       "      <th>participant</th>\n",
       "      <th>x_index_tip</th>\n",
       "      <th>x_thumb_tip</th>\n",
       "      <th>y_index_tip</th>\n",
       "      <th>y_thumb_tip</th>\n",
       "      <th>dist</th>\n",
       "      <th>dist_filter</th>\n",
       "      <th>dist_norm</th>\n",
       "      <th>flag_minima_rolling</th>\n",
       "      <th>dist_derivative</th>\n",
       "      <th>frozen_state</th>\n",
       "    </tr>\n",
       "  </thead>\n",
       "  <tbody>\n",
       "    <tr>\n",
       "      <th>0</th>\n",
       "      <td>0</td>\n",
       "      <td>R00001.avi</td>\n",
       "      <td>0.528733</td>\n",
       "      <td>0.644310</td>\n",
       "      <td>0.202041</td>\n",
       "      <td>0.340900</td>\n",
       "      <td>0.180665</td>\n",
       "      <td>0.180662</td>\n",
       "      <td>0.552908</td>\n",
       "      <td>False</td>\n",
       "      <td>NaN</td>\n",
       "      <td>False</td>\n",
       "    </tr>\n",
       "    <tr>\n",
       "      <th>1</th>\n",
       "      <td>1</td>\n",
       "      <td>R00001.avi</td>\n",
       "      <td>0.556952</td>\n",
       "      <td>0.688530</td>\n",
       "      <td>0.117352</td>\n",
       "      <td>0.376662</td>\n",
       "      <td>0.290782</td>\n",
       "      <td>0.268091</td>\n",
       "      <td>0.807485</td>\n",
       "      <td>False</td>\n",
       "      <td>0.254578</td>\n",
       "      <td>False</td>\n",
       "    </tr>\n",
       "    <tr>\n",
       "      <th>2</th>\n",
       "      <td>2</td>\n",
       "      <td>R00001.avi</td>\n",
       "      <td>0.566714</td>\n",
       "      <td>0.696156</td>\n",
       "      <td>0.090360</td>\n",
       "      <td>0.393507</td>\n",
       "      <td>0.329627</td>\n",
       "      <td>0.308954</td>\n",
       "      <td>0.926472</td>\n",
       "      <td>False</td>\n",
       "      <td>0.118987</td>\n",
       "      <td>False</td>\n",
       "    </tr>\n",
       "    <tr>\n",
       "      <th>3</th>\n",
       "      <td>3</td>\n",
       "      <td>R00001.avi</td>\n",
       "      <td>0.581263</td>\n",
       "      <td>0.678055</td>\n",
       "      <td>0.095330</td>\n",
       "      <td>0.403044</td>\n",
       "      <td>0.322578</td>\n",
       "      <td>0.278429</td>\n",
       "      <td>0.837587</td>\n",
       "      <td>False</td>\n",
       "      <td>-0.088885</td>\n",
       "      <td>False</td>\n",
       "    </tr>\n",
       "    <tr>\n",
       "      <th>4</th>\n",
       "      <td>4</td>\n",
       "      <td>R00001.avi</td>\n",
       "      <td>0.509086</td>\n",
       "      <td>0.586647</td>\n",
       "      <td>0.167417</td>\n",
       "      <td>0.356662</td>\n",
       "      <td>0.204522</td>\n",
       "      <td>0.188872</td>\n",
       "      <td>0.576815</td>\n",
       "      <td>False</td>\n",
       "      <td>-0.260772</td>\n",
       "      <td>False</td>\n",
       "    </tr>\n",
       "  </tbody>\n",
       "</table>\n",
       "</div>"
      ],
      "text/plain": [
       "   frame participant  x_index_tip  x_thumb_tip  y_index_tip  y_thumb_tip  \\\n",
       "0      0  R00001.avi     0.528733     0.644310     0.202041     0.340900   \n",
       "1      1  R00001.avi     0.556952     0.688530     0.117352     0.376662   \n",
       "2      2  R00001.avi     0.566714     0.696156     0.090360     0.393507   \n",
       "3      3  R00001.avi     0.581263     0.678055     0.095330     0.403044   \n",
       "4      4  R00001.avi     0.509086     0.586647     0.167417     0.356662   \n",
       "\n",
       "       dist  dist_filter  dist_norm  flag_minima_rolling  dist_derivative  \\\n",
       "0  0.180665     0.180662   0.552908                False              NaN   \n",
       "1  0.290782     0.268091   0.807485                False         0.254578   \n",
       "2  0.329627     0.308954   0.926472                False         0.118987   \n",
       "3  0.322578     0.278429   0.837587                False        -0.088885   \n",
       "4  0.204522     0.188872   0.576815                False        -0.260772   \n",
       "\n",
       "   frozen_state  \n",
       "0         False  \n",
       "1         False  \n",
       "2         False  \n",
       "3         False  \n",
       "4         False  "
      ]
     },
     "execution_count": 15,
     "metadata": {},
     "output_type": "execute_result"
    }
   ],
   "source": [
    "data_pivot.head()"
   ]
  },
  {
   "cell_type": "code",
   "execution_count": 16,
   "metadata": {},
   "outputs": [
    {
     "data": {
      "application/vnd.plotly.v1+json": {
       "config": {
        "plotlyServerURL": "https://plot.ly"
       },
       "data": [
        {
         "marker": {
          "color": [
           "blue",
           "blue",
           "blue",
           "blue",
           "blue",
           "blue",
           "blue",
           "blue",
           "blue",
           "blue",
           "blue",
           "blue",
           "blue",
           "blue",
           "blue",
           "blue",
           "blue",
           "blue",
           "blue",
           "blue",
           "blue",
           "red",
           "blue",
           "blue",
           "blue",
           "blue",
           "blue",
           "blue",
           "blue",
           "blue",
           "blue",
           "blue",
           "blue",
           "blue",
           "blue",
           "blue",
           "blue",
           "blue",
           "blue",
           "blue",
           "blue",
           "blue",
           "blue",
           "blue",
           "blue",
           "red",
           "blue",
           "blue",
           "blue",
           "blue",
           "blue",
           "blue",
           "blue",
           "blue",
           "blue",
           "blue",
           "blue",
           "blue",
           "blue",
           "blue",
           "blue",
           "blue",
           "blue",
           "blue",
           "blue",
           "blue",
           "blue",
           "blue",
           "blue",
           "blue",
           "blue",
           "blue",
           "blue",
           "blue",
           "blue",
           "blue",
           "blue",
           "blue",
           "blue",
           "blue",
           "blue",
           "blue",
           "red",
           "blue",
           "blue",
           "blue",
           "blue",
           "blue",
           "blue",
           "blue",
           "blue",
           "blue",
           "blue",
           "blue",
           "blue",
           "blue",
           "blue",
           "blue",
           "blue",
           "blue",
           "blue",
           "blue",
           "blue",
           "blue",
           "blue",
           "blue",
           "blue",
           "blue",
           "blue",
           "blue",
           "blue",
           "blue",
           "blue",
           "blue",
           "blue",
           "blue",
           "blue",
           "blue",
           "blue",
           "blue",
           "blue",
           "blue",
           "blue",
           "blue",
           "blue"
          ]
         },
         "mode": "markers+lines",
         "type": "scatter",
         "x": [
          0,
          1,
          2,
          3,
          4,
          5,
          6,
          7,
          8,
          9,
          10,
          11,
          12,
          13,
          14,
          15,
          16,
          17,
          18,
          19,
          20,
          21,
          22,
          23,
          24,
          25,
          26,
          27,
          28,
          29,
          30,
          31,
          32,
          33,
          34,
          35,
          36,
          37,
          38,
          39,
          40,
          41,
          42,
          43,
          44,
          45,
          46,
          47,
          48,
          49,
          50,
          51,
          52,
          53,
          54,
          55,
          56,
          57,
          58,
          59,
          60,
          61,
          62,
          63,
          64,
          65,
          66,
          67,
          68,
          69,
          70,
          71,
          72,
          73,
          74,
          75,
          76,
          77,
          78,
          79,
          80,
          81,
          82,
          83,
          84,
          85,
          86,
          87,
          88,
          89,
          90,
          91,
          92,
          93,
          94,
          95,
          96,
          97,
          98,
          99,
          100,
          101,
          102,
          103,
          104,
          105,
          106,
          107,
          108,
          109,
          110,
          111,
          112,
          113,
          114,
          115,
          116,
          117,
          118,
          119,
          120,
          121,
          122,
          123,
          124
         ],
         "y": [
          null,
          0.2545775802447574,
          0.11898661504727015,
          -0.08888498220630314,
          -0.26077163939796866,
          -0.2994162115745934,
          -0.19917584483385814,
          -0.035330737378310245,
          0.1339251487782248,
          0.2716375317953791,
          0.3060626381975704,
          0.18703548577725582,
          -0.037209583928477175,
          -0.24700576999996804,
          -0.3224426178238287,
          -0.2367829971040285,
          -0.07758845989930534,
          0.08118653540914585,
          0.22458419666932022,
          0.2953895883724198,
          0.21533818590336284,
          0.0057920959213703105,
          -0.21110200517437572,
          -0.3033223697707287,
          -0.2358781369227242,
          -0.09251209950404858,
          0.050327734857043865,
          0.18002159361343928,
          0.2634309846127548,
          0.2439866680278297,
          0.12243513551209884,
          -0.050613134655646874,
          -0.21258817057801072,
          -0.2813456731123534,
          -0.216612308176584,
          -0.07671531284039898,
          0.07250139774969594,
          0.2073455616099063,
          0.2734761400221414,
          0.21153068292223054,
          0.04960892076761514,
          -0.12838648239156347,
          -0.24864950487069054,
          -0.25802618825048185,
          -0.15484367036269547,
          0.0075670264729766346,
          0.17468343981086837,
          0.29107650769708093,
          0.2920853335159035,
          0.16208559600735384,
          -0.0475625222143079,
          -0.2460919996915314,
          -0.324304304628349,
          -0.2414051568571324,
          -0.07423303100349105,
          0.0922240321143305,
          0.2219380258238217,
          0.26157249026933926,
          0.1615322289648733,
          -0.037996062206261394,
          -0.21708348556523682,
          -0.2673605568053699,
          -0.1802220159664633,
          -0.03492024286312686,
          0.10633035780533617,
          0.21803131282180435,
          0.2483651976766929,
          0.1523104134725809,
          -0.031504290959535663,
          -0.19825787272858508,
          -0.2506336794090348,
          -0.173861887101192,
          -0.03902875457200268,
          0.09230206948422545,
          0.1996605551838664,
          0.24617564273322406,
          0.1917004709911767,
          0.04729026476338383,
          -0.1296844312819594,
          -0.25513446412092666,
          -0.25887681792311856,
          -0.15342569216529886,
          -0.008524980027821934,
          0.13287926976029868,
          0.24216852801073366,
          0.269172447873344,
          0.19139249877260556,
          0.04214160599100569,
          -0.12855341987017843,
          -0.2585172856991089,
          -0.27773093182937914,
          -0.176517711097963,
          -0.011542212591758444,
          0.16467517138573623,
          0.2964441404361984,
          0.3056701190902833,
          0.16461468779375887,
          -0.06623081971117517,
          -0.27390182961529685,
          -0.34357408949741375,
          -0.24689054014165274,
          -0.06366169631272704,
          0.12562209479100833,
          0.27630175324193873,
          0.3248594713426587,
          0.2287772668682282,
          0.02953590879446788,
          -0.18390526289953157,
          -0.31575261232482216,
          -0.29744115869683824,
          -0.14933712907872232,
          0.04178022252042761,
          0.20164857655168592,
          0.27532661382854234,
          0.22836966950729354,
          0.08189970305144934,
          -0.10238138743555136,
          -0.24871094472106492,
          -0.2806866435690808,
          -0.18349390769536678,
          -0.022053943688782197,
          0.13377609576431826,
          0.23680838178659244,
          0.26022836600783594,
          0.2385607138720337
         ]
        }
       ],
       "layout": {
        "template": {
         "data": {
          "bar": [
           {
            "error_x": {
             "color": "#2a3f5f"
            },
            "error_y": {
             "color": "#2a3f5f"
            },
            "marker": {
             "line": {
              "color": "#E5ECF6",
              "width": 0.5
             },
             "pattern": {
              "fillmode": "overlay",
              "size": 10,
              "solidity": 0.2
             }
            },
            "type": "bar"
           }
          ],
          "barpolar": [
           {
            "marker": {
             "line": {
              "color": "#E5ECF6",
              "width": 0.5
             },
             "pattern": {
              "fillmode": "overlay",
              "size": 10,
              "solidity": 0.2
             }
            },
            "type": "barpolar"
           }
          ],
          "carpet": [
           {
            "aaxis": {
             "endlinecolor": "#2a3f5f",
             "gridcolor": "white",
             "linecolor": "white",
             "minorgridcolor": "white",
             "startlinecolor": "#2a3f5f"
            },
            "baxis": {
             "endlinecolor": "#2a3f5f",
             "gridcolor": "white",
             "linecolor": "white",
             "minorgridcolor": "white",
             "startlinecolor": "#2a3f5f"
            },
            "type": "carpet"
           }
          ],
          "choropleth": [
           {
            "colorbar": {
             "outlinewidth": 0,
             "ticks": ""
            },
            "type": "choropleth"
           }
          ],
          "contour": [
           {
            "colorbar": {
             "outlinewidth": 0,
             "ticks": ""
            },
            "colorscale": [
             [
              0,
              "#0d0887"
             ],
             [
              0.1111111111111111,
              "#46039f"
             ],
             [
              0.2222222222222222,
              "#7201a8"
             ],
             [
              0.3333333333333333,
              "#9c179e"
             ],
             [
              0.4444444444444444,
              "#bd3786"
             ],
             [
              0.5555555555555556,
              "#d8576b"
             ],
             [
              0.6666666666666666,
              "#ed7953"
             ],
             [
              0.7777777777777778,
              "#fb9f3a"
             ],
             [
              0.8888888888888888,
              "#fdca26"
             ],
             [
              1,
              "#f0f921"
             ]
            ],
            "type": "contour"
           }
          ],
          "contourcarpet": [
           {
            "colorbar": {
             "outlinewidth": 0,
             "ticks": ""
            },
            "type": "contourcarpet"
           }
          ],
          "heatmap": [
           {
            "colorbar": {
             "outlinewidth": 0,
             "ticks": ""
            },
            "colorscale": [
             [
              0,
              "#0d0887"
             ],
             [
              0.1111111111111111,
              "#46039f"
             ],
             [
              0.2222222222222222,
              "#7201a8"
             ],
             [
              0.3333333333333333,
              "#9c179e"
             ],
             [
              0.4444444444444444,
              "#bd3786"
             ],
             [
              0.5555555555555556,
              "#d8576b"
             ],
             [
              0.6666666666666666,
              "#ed7953"
             ],
             [
              0.7777777777777778,
              "#fb9f3a"
             ],
             [
              0.8888888888888888,
              "#fdca26"
             ],
             [
              1,
              "#f0f921"
             ]
            ],
            "type": "heatmap"
           }
          ],
          "heatmapgl": [
           {
            "colorbar": {
             "outlinewidth": 0,
             "ticks": ""
            },
            "colorscale": [
             [
              0,
              "#0d0887"
             ],
             [
              0.1111111111111111,
              "#46039f"
             ],
             [
              0.2222222222222222,
              "#7201a8"
             ],
             [
              0.3333333333333333,
              "#9c179e"
             ],
             [
              0.4444444444444444,
              "#bd3786"
             ],
             [
              0.5555555555555556,
              "#d8576b"
             ],
             [
              0.6666666666666666,
              "#ed7953"
             ],
             [
              0.7777777777777778,
              "#fb9f3a"
             ],
             [
              0.8888888888888888,
              "#fdca26"
             ],
             [
              1,
              "#f0f921"
             ]
            ],
            "type": "heatmapgl"
           }
          ],
          "histogram": [
           {
            "marker": {
             "pattern": {
              "fillmode": "overlay",
              "size": 10,
              "solidity": 0.2
             }
            },
            "type": "histogram"
           }
          ],
          "histogram2d": [
           {
            "colorbar": {
             "outlinewidth": 0,
             "ticks": ""
            },
            "colorscale": [
             [
              0,
              "#0d0887"
             ],
             [
              0.1111111111111111,
              "#46039f"
             ],
             [
              0.2222222222222222,
              "#7201a8"
             ],
             [
              0.3333333333333333,
              "#9c179e"
             ],
             [
              0.4444444444444444,
              "#bd3786"
             ],
             [
              0.5555555555555556,
              "#d8576b"
             ],
             [
              0.6666666666666666,
              "#ed7953"
             ],
             [
              0.7777777777777778,
              "#fb9f3a"
             ],
             [
              0.8888888888888888,
              "#fdca26"
             ],
             [
              1,
              "#f0f921"
             ]
            ],
            "type": "histogram2d"
           }
          ],
          "histogram2dcontour": [
           {
            "colorbar": {
             "outlinewidth": 0,
             "ticks": ""
            },
            "colorscale": [
             [
              0,
              "#0d0887"
             ],
             [
              0.1111111111111111,
              "#46039f"
             ],
             [
              0.2222222222222222,
              "#7201a8"
             ],
             [
              0.3333333333333333,
              "#9c179e"
             ],
             [
              0.4444444444444444,
              "#bd3786"
             ],
             [
              0.5555555555555556,
              "#d8576b"
             ],
             [
              0.6666666666666666,
              "#ed7953"
             ],
             [
              0.7777777777777778,
              "#fb9f3a"
             ],
             [
              0.8888888888888888,
              "#fdca26"
             ],
             [
              1,
              "#f0f921"
             ]
            ],
            "type": "histogram2dcontour"
           }
          ],
          "mesh3d": [
           {
            "colorbar": {
             "outlinewidth": 0,
             "ticks": ""
            },
            "type": "mesh3d"
           }
          ],
          "parcoords": [
           {
            "line": {
             "colorbar": {
              "outlinewidth": 0,
              "ticks": ""
             }
            },
            "type": "parcoords"
           }
          ],
          "pie": [
           {
            "automargin": true,
            "type": "pie"
           }
          ],
          "scatter": [
           {
            "fillpattern": {
             "fillmode": "overlay",
             "size": 10,
             "solidity": 0.2
            },
            "type": "scatter"
           }
          ],
          "scatter3d": [
           {
            "line": {
             "colorbar": {
              "outlinewidth": 0,
              "ticks": ""
             }
            },
            "marker": {
             "colorbar": {
              "outlinewidth": 0,
              "ticks": ""
             }
            },
            "type": "scatter3d"
           }
          ],
          "scattercarpet": [
           {
            "marker": {
             "colorbar": {
              "outlinewidth": 0,
              "ticks": ""
             }
            },
            "type": "scattercarpet"
           }
          ],
          "scattergeo": [
           {
            "marker": {
             "colorbar": {
              "outlinewidth": 0,
              "ticks": ""
             }
            },
            "type": "scattergeo"
           }
          ],
          "scattergl": [
           {
            "marker": {
             "colorbar": {
              "outlinewidth": 0,
              "ticks": ""
             }
            },
            "type": "scattergl"
           }
          ],
          "scattermapbox": [
           {
            "marker": {
             "colorbar": {
              "outlinewidth": 0,
              "ticks": ""
             }
            },
            "type": "scattermapbox"
           }
          ],
          "scatterpolar": [
           {
            "marker": {
             "colorbar": {
              "outlinewidth": 0,
              "ticks": ""
             }
            },
            "type": "scatterpolar"
           }
          ],
          "scatterpolargl": [
           {
            "marker": {
             "colorbar": {
              "outlinewidth": 0,
              "ticks": ""
             }
            },
            "type": "scatterpolargl"
           }
          ],
          "scatterternary": [
           {
            "marker": {
             "colorbar": {
              "outlinewidth": 0,
              "ticks": ""
             }
            },
            "type": "scatterternary"
           }
          ],
          "surface": [
           {
            "colorbar": {
             "outlinewidth": 0,
             "ticks": ""
            },
            "colorscale": [
             [
              0,
              "#0d0887"
             ],
             [
              0.1111111111111111,
              "#46039f"
             ],
             [
              0.2222222222222222,
              "#7201a8"
             ],
             [
              0.3333333333333333,
              "#9c179e"
             ],
             [
              0.4444444444444444,
              "#bd3786"
             ],
             [
              0.5555555555555556,
              "#d8576b"
             ],
             [
              0.6666666666666666,
              "#ed7953"
             ],
             [
              0.7777777777777778,
              "#fb9f3a"
             ],
             [
              0.8888888888888888,
              "#fdca26"
             ],
             [
              1,
              "#f0f921"
             ]
            ],
            "type": "surface"
           }
          ],
          "table": [
           {
            "cells": {
             "fill": {
              "color": "#EBF0F8"
             },
             "line": {
              "color": "white"
             }
            },
            "header": {
             "fill": {
              "color": "#C8D4E3"
             },
             "line": {
              "color": "white"
             }
            },
            "type": "table"
           }
          ]
         },
         "layout": {
          "annotationdefaults": {
           "arrowcolor": "#2a3f5f",
           "arrowhead": 0,
           "arrowwidth": 1
          },
          "autotypenumbers": "strict",
          "coloraxis": {
           "colorbar": {
            "outlinewidth": 0,
            "ticks": ""
           }
          },
          "colorscale": {
           "diverging": [
            [
             0,
             "#8e0152"
            ],
            [
             0.1,
             "#c51b7d"
            ],
            [
             0.2,
             "#de77ae"
            ],
            [
             0.3,
             "#f1b6da"
            ],
            [
             0.4,
             "#fde0ef"
            ],
            [
             0.5,
             "#f7f7f7"
            ],
            [
             0.6,
             "#e6f5d0"
            ],
            [
             0.7,
             "#b8e186"
            ],
            [
             0.8,
             "#7fbc41"
            ],
            [
             0.9,
             "#4d9221"
            ],
            [
             1,
             "#276419"
            ]
           ],
           "sequential": [
            [
             0,
             "#0d0887"
            ],
            [
             0.1111111111111111,
             "#46039f"
            ],
            [
             0.2222222222222222,
             "#7201a8"
            ],
            [
             0.3333333333333333,
             "#9c179e"
            ],
            [
             0.4444444444444444,
             "#bd3786"
            ],
            [
             0.5555555555555556,
             "#d8576b"
            ],
            [
             0.6666666666666666,
             "#ed7953"
            ],
            [
             0.7777777777777778,
             "#fb9f3a"
            ],
            [
             0.8888888888888888,
             "#fdca26"
            ],
            [
             1,
             "#f0f921"
            ]
           ],
           "sequentialminus": [
            [
             0,
             "#0d0887"
            ],
            [
             0.1111111111111111,
             "#46039f"
            ],
            [
             0.2222222222222222,
             "#7201a8"
            ],
            [
             0.3333333333333333,
             "#9c179e"
            ],
            [
             0.4444444444444444,
             "#bd3786"
            ],
            [
             0.5555555555555556,
             "#d8576b"
            ],
            [
             0.6666666666666666,
             "#ed7953"
            ],
            [
             0.7777777777777778,
             "#fb9f3a"
            ],
            [
             0.8888888888888888,
             "#fdca26"
            ],
            [
             1,
             "#f0f921"
            ]
           ]
          },
          "colorway": [
           "#636efa",
           "#EF553B",
           "#00cc96",
           "#ab63fa",
           "#FFA15A",
           "#19d3f3",
           "#FF6692",
           "#B6E880",
           "#FF97FF",
           "#FECB52"
          ],
          "font": {
           "color": "#2a3f5f"
          },
          "geo": {
           "bgcolor": "white",
           "lakecolor": "white",
           "landcolor": "#E5ECF6",
           "showlakes": true,
           "showland": true,
           "subunitcolor": "white"
          },
          "hoverlabel": {
           "align": "left"
          },
          "hovermode": "closest",
          "mapbox": {
           "style": "light"
          },
          "paper_bgcolor": "white",
          "plot_bgcolor": "#E5ECF6",
          "polar": {
           "angularaxis": {
            "gridcolor": "white",
            "linecolor": "white",
            "ticks": ""
           },
           "bgcolor": "#E5ECF6",
           "radialaxis": {
            "gridcolor": "white",
            "linecolor": "white",
            "ticks": ""
           }
          },
          "scene": {
           "xaxis": {
            "backgroundcolor": "#E5ECF6",
            "gridcolor": "white",
            "gridwidth": 2,
            "linecolor": "white",
            "showbackground": true,
            "ticks": "",
            "zerolinecolor": "white"
           },
           "yaxis": {
            "backgroundcolor": "#E5ECF6",
            "gridcolor": "white",
            "gridwidth": 2,
            "linecolor": "white",
            "showbackground": true,
            "ticks": "",
            "zerolinecolor": "white"
           },
           "zaxis": {
            "backgroundcolor": "#E5ECF6",
            "gridcolor": "white",
            "gridwidth": 2,
            "linecolor": "white",
            "showbackground": true,
            "ticks": "",
            "zerolinecolor": "white"
           }
          },
          "shapedefaults": {
           "line": {
            "color": "#2a3f5f"
           }
          },
          "ternary": {
           "aaxis": {
            "gridcolor": "white",
            "linecolor": "white",
            "ticks": ""
           },
           "baxis": {
            "gridcolor": "white",
            "linecolor": "white",
            "ticks": ""
           },
           "bgcolor": "#E5ECF6",
           "caxis": {
            "gridcolor": "white",
            "linecolor": "white",
            "ticks": ""
           }
          },
          "title": {
           "x": 0.05
          },
          "xaxis": {
           "automargin": true,
           "gridcolor": "white",
           "linecolor": "white",
           "ticks": "",
           "title": {
            "standoff": 15
           },
           "zerolinecolor": "white",
           "zerolinewidth": 2
          },
          "yaxis": {
           "automargin": true,
           "gridcolor": "white",
           "linecolor": "white",
           "ticks": "",
           "title": {
            "standoff": 15
           },
           "zerolinecolor": "white",
           "zerolinewidth": 2
          }
         }
        },
        "title": {
         "text": "R00001 - Derivative and frozen states"
        }
       }
      }
     },
     "metadata": {},
     "output_type": "display_data"
    }
   ],
   "source": [
    "import plotly.graph_objects as go\n",
    "\n",
    "fig = go.Figure()\n",
    "fig.add_trace(go.Scatter(x=data_pivot['frame'], y=data_pivot['dist_derivative'], mode='markers+lines', \n",
    "                         marker_color=data_pivot['frozen_state'].map({True: 'red', False: 'blue'})))\n",
    "\n",
    "fig.update_layout(title=f'{participant.replace(\".avi\", \"\")} - Derivative and frozen states').show()"
   ]
  },
  {
   "attachments": {},
   "cell_type": "markdown",
   "metadata": {},
   "source": [
    "### Tapping amplitude variation\n",
    "\n",
    "`The tapping amplitude refers to the patient’s ability to keep the tapping amplitude. For example, there is an obvious decrease in the amplitude of the wave form, shown in the third row of Figure 3(b). We calculate the standard deviation of the tapping amplitude to grasp the tapping amplitude variation, avoiding the effects of the various absolute pixel distances.`"
   ]
  },
  {
   "cell_type": "code",
   "execution_count": 17,
   "metadata": {},
   "outputs": [
    {
     "data": {
      "text/plain": [
       "array([0.31315559])"
      ]
     },
     "execution_count": 17,
     "metadata": {},
     "output_type": "execute_result"
    }
   ],
   "source": [
    "data_pivot['dist_std'] = data_pivot['dist_norm'].std()\n",
    "data_pivot['dist_std'].unique()"
   ]
  },
  {
   "attachments": {},
   "cell_type": "markdown",
   "metadata": {},
   "source": [
    "### Creating Dataset for Model\n",
    "\n",
    "Now that we have explored the data, we can create a dataset for our model for all the videos."
   ]
  },
  {
   "cell_type": "code",
   "execution_count": null,
   "metadata": {},
   "outputs": [],
   "source": [
    "import pandas as pd\n",
    "import numpy as np\n",
    "from sklearn.preprocessing import minmax_scale\n",
    "from scipy.signal import butter, filtfilt\n",
    "\n",
    "\n",
    "\n",
    "input_path = r'C:\\Users\\Eduardo\\OneDrive\\Área de Trabalho\\marked-finger-lr'\n",
    "df_landmark = pd.read_csv(f'{input_path}/df_landmark_confidence_0.5.csv', sep=';')\n",
    "\n",
    "\n",
    "\n",
    "landmark_thumb_tip = 4\n",
    "landmark_index_finger_tip = 8\n",
    "video_length_seconds = 5\n",
    "dataset = []\n",
    "\n",
    "for participant in df_landmark['participant'].unique():\n",
    "    data = df_landmark[(df_landmark['participant']==participant) & \n",
    "                       (df_landmark['landmark_id'].isin([landmark_thumb_tip, landmark_index_finger_tip]))].copy()\n",
    "\n",
    "    data['landmark_id'] = data['landmark_id'].map({landmark_thumb_tip: '_thumb_tip', landmark_index_finger_tip: '_index_tip'})\n",
    "\n",
    "    if data.shape[0] == 250: # video hase 125 frames * 2 for index and thumb tip\n",
    "        #print(participant)\n",
    "\n",
    "        data_pivot = data.pivot_table(index=['frame', 'participant'], columns='landmark_id', values=['x', 'y']).reset_index()\n",
    "        data_pivot.columns = [str(col[0]) + str(col[1]).replace('.0', '') for col in data_pivot.columns]\n",
    "\n",
    "        # distance\n",
    "        data_pivot['dist'] = np.sqrt((data_pivot['x_thumb_tip'] - data_pivot['x_index_tip'])**2 + \n",
    "                                    (data_pivot['y_thumb_tip'] - data_pivot['y_index_tip'])**2)\n",
    "        \n",
    "        # low pass filter\n",
    "        cutoff = 4\n",
    "        sampling_rate = 25\n",
    "        order = 2\n",
    "        normal_cutoff = cutoff / (0.5 * sampling_rate)\n",
    "        b, a = butter(order, normal_cutoff, btype='low', analog=False)\n",
    "        data_pivot['dist_filter'] = filtfilt(b, a, data_pivot['dist'])\n",
    "\n",
    "        data_pivot['dist_norm'] = minmax_scale(data_pivot['dist_filter'])\n",
    "\n",
    "        # local minima\n",
    "        data_pivot['flag_minima_rolling'] = np.where(data_pivot['dist_norm'] == data_pivot['dist_norm'].rolling(5, center=True).min(), True, False)\n",
    "        \n",
    "        # tapping rate\n",
    "        tapping_rate = data_pivot['flag_minima_rolling'].sum() / video_length_seconds\n",
    "        tapping_rate\n",
    "\n",
    "        # tapping frozen\n",
    "        data_pivot['dist_derivative'] = data_pivot['dist_norm'].diff()\n",
    "\n",
    "        frozen_threshold = 0.01\n",
    "\n",
    "        data_pivot['frozen_state'] = np.abs(data_pivot['dist_derivative']) < frozen_threshold\n",
    "        tapping_frozen = data_pivot[data_pivot['frozen_state']==True].shape[0]\n",
    "\n",
    "        # tapping standard deviation\n",
    "        tapping_std = data_pivot['dist_norm'].std()\n",
    "\n",
    "        dataset.append({'participant': participant, 'tapping_rate': tapping_rate, 'tapping_std': tapping_std, 'tapping_frozen': tapping_frozen})\n",
    "\n",
    "df_dataset = pd.DataFrame.from_records(dataset)\n",
    "df_dataset['participant'] = df_dataset['participant'].str.replace('.avi', '', regex=False)\n",
    "df_dataset.shape\n"
   ]
  },
  {
   "cell_type": "code",
   "execution_count": null,
   "metadata": {},
   "outputs": [],
   "source": [
    "df_dataset.head()"
   ]
  },
  {
   "attachments": {},
   "cell_type": "markdown",
   "metadata": {},
   "source": [
    "### Target variable\n",
    "\n",
    "Reading the target values from the separate text files."
   ]
  },
  {
   "cell_type": "code",
   "execution_count": null,
   "metadata": {},
   "outputs": [],
   "source": [
    "df_target = pd.DataFrame()\n",
    "\n",
    "files = [\"E:\\PDMotorDB\\lefthand_train.txt\", \"E:\\PDMotorDB\\lefthand_val.txt\", r\"E:\\PDMotorDB\\righthand_train.txt\", r\"E:\\PDMotorDB\\righthand_val.txt\"]\n",
    "\n",
    "for file in files:\n",
    "    participant_prefix = 'L' if 'lefthand' in file else 'R'\n",
    "\n",
    "    with open(file, 'r') as f:\n",
    "        lines = f.readlines()\n",
    "        df_lines = pd.DataFrame(lines, columns=['participant'])\n",
    "        \n",
    "        df_lines['target'] = df_lines['participant'].str.replace('\\n', '').str.split(' ').str[1].astype(int)\n",
    "        df_lines['participant'] = participant_prefix + df_lines['participant'].str.split(' ').str[0]\n",
    "        df_lines['train_val'] = 'train' if 'train' in file else 'val'\n",
    "\n",
    "        df_target = df_target.append(df_lines)\n",
    "df_target.shape"
   ]
  },
  {
   "cell_type": "code",
   "execution_count": null,
   "metadata": {},
   "outputs": [],
   "source": [
    "df_target.head()"
   ]
  },
  {
   "cell_type": "code",
   "execution_count": null,
   "metadata": {},
   "outputs": [],
   "source": [
    "df_dataset = df_dataset.merge(df_target, on='participant', how='left')\n",
    "df_dataset.shape"
   ]
  },
  {
   "cell_type": "code",
   "execution_count": null,
   "metadata": {},
   "outputs": [],
   "source": [
    "df_dataset.head()"
   ]
  },
  {
   "cell_type": "code",
   "execution_count": null,
   "metadata": {},
   "outputs": [],
   "source": [
    "# Removing dirty data from the dataset\n",
    "\n",
    "exclude_ids = [ 'L00008', 'L00013', 'L00031', 'L00035', 'L00036', 'L00042', 'L00075', 'L00095', 'L00098', 'L00104', 'L00105', 'L00116', 'L00139', 'L00170', 'L00188', 'L00189', 'L00191', 'L00193', 'L00198', 'L00214', 'L00217', 'L00228', 'L00231', 'L00233', 'L00236', 'L00244', 'L00251', 'L00253', 'L00255', 'L00258', 'L00262', 'L00263', 'L00271', 'L00282', 'L00284', 'L00294', 'L00305', 'L00307', 'L00312', 'L00338', 'L00343', 'L00368', 'R00017', 'R00034', 'R00035', 'R00041', 'R00054', 'R00060', 'R00063', 'R00071', 'R00074', 'R00085', 'R00088', 'R00105', 'R00118', 'R00138', 'R00139', 'R00146', 'R00159', 'R00178', 'R00194', 'R00195', 'R00197', 'R00203', 'R00212', 'R00214', 'R00243',]\n",
    "\n",
    "df_dataset = df_dataset[~df_dataset['participant'].isin(exclude_ids)]"
   ]
  },
  {
   "attachments": {},
   "cell_type": "markdown",
   "metadata": {},
   "source": [
    "### Model\n",
    "\n",
    "**From the paper (page 8)**\n",
    "\n",
    "`We use the data with three dimensions to train a classifier with a deep neural network (DNN). Our DNN classifier has `three layers and each layer has 8 hidden nodes`. We use `adam learner `with` learning rate: 0.01 and weight decay: 1e-6`. The number of the `training epoch is 200 `and the` training loss is Softmax`. Then we test the method on the test set. We report the `precision, recall, f1-score, and confusion matrix` of the DNN-based classifier. Type 0, type 1, type 2, and type 3 represent the normal, slight, mild, and moderate severity of MDS-UPDRS respectively.`"
   ]
  },
  {
   "cell_type": "code",
   "execution_count": null,
   "metadata": {},
   "outputs": [],
   "source": [
    "import tensorflow as tf\n",
    "from tensorflow.keras import layers, regularizers\n",
    "\n",
    "def create_model():\n",
    "    model = tf.keras.Sequential([\n",
    "        layers.Input(shape=(3,)),\n",
    "        layers.Dense(8, activation='softmax', kernel_regularizer=regularizers.l2(1e-6)),\n",
    "        layers.Dense(8, activation='softmax', kernel_regularizer=regularizers.l2(1e-6)),\n",
    "        layers.Dense(8, activation='softmax', kernel_regularizer=regularizers.l2(1e-6)),\n",
    "        layers.Dense(4, activation='softmax')\n",
    "    ])\n",
    "\n",
    "    model.compile(optimizer=tf.keras.optimizers.Adam(learning_rate=0.01),\n",
    "                loss='categorical_crossentropy', \n",
    "                metrics=['accuracy',\n",
    "                         tf.keras.metrics.Precision(),\n",
    "                         tf.keras.metrics.Recall()])\n",
    "    \n",
    "    return model"
   ]
  },
  {
   "cell_type": "code",
   "execution_count": null,
   "metadata": {},
   "outputs": [],
   "source": [
    "model = create_model()"
   ]
  },
  {
   "cell_type": "markdown",
   "metadata": {},
   "source": [
    "### Train, test and validation split\n",
    "\n",
    "Since the authors separate the data between left and right hand, we will do the same here with the _selected\\_hand_ variable. We will also split the data into train, test and validation sets using the same proportions as the authors."
   ]
  },
  {
   "cell_type": "code",
   "execution_count": null,
   "metadata": {},
   "outputs": [],
   "source": [
    "selected_hand = 'R' # 'L'"
   ]
  },
  {
   "cell_type": "code",
   "execution_count": null,
   "metadata": {},
   "outputs": [],
   "source": [
    "from sklearn.model_selection import train_test_split\n",
    "from tensorflow.keras.utils import to_categorical\n",
    "\n",
    "train_dataset = df_dataset[(df_dataset['train_val']=='train') & (df_dataset['participant'].str.contains(selected_hand))]\n",
    "\n",
    "\n",
    "test_dataset = df_dataset[(df_dataset['train_val']=='val') & (df_dataset['participant'].str.contains(selected_hand))]\n",
    "\n",
    "\n",
    "X_train, X_val, y_train, y_val = train_test_split(train_dataset[['tapping_rate', 'tapping_std', 'tapping_frozen']], train_dataset['target'], test_size=0.4, random_state=42)\n",
    "\n",
    "print(f'''\n",
    "Train shape: {X_train.shape} {y_train.shape} \\t {np.unique(y_train, return_counts=True)}\n",
    "Val shape:  {X_val.shape} {y_val.shape} \\t {np.unique(y_val, return_counts=True)}\n",
    "''')\n",
    "\n",
    "y_train = to_categorical(y_train, num_classes=df_dataset['target'].nunique())\n",
    "y_val = to_categorical(y_val, num_classes=df_dataset['target'].nunique())\n"
   ]
  },
  {
   "cell_type": "code",
   "execution_count": null,
   "metadata": {},
   "outputs": [],
   "source": [
    "X_train.head()"
   ]
  },
  {
   "cell_type": "code",
   "execution_count": null,
   "metadata": {},
   "outputs": [],
   "source": [
    "y_train[:5]"
   ]
  },
  {
   "cell_type": "markdown",
   "metadata": {},
   "source": [
    "Training the model for 200 epochs"
   ]
  },
  {
   "cell_type": "code",
   "execution_count": null,
   "metadata": {},
   "outputs": [],
   "source": [
    "history = model.fit(X_train, y_train, validation_data=(X_val, y_val), epochs=200)"
   ]
  },
  {
   "cell_type": "code",
   "execution_count": null,
   "metadata": {},
   "outputs": [],
   "source": [
    "import plotly.graph_objects as go\n",
    "\n",
    "trace_train = go.Scatter(\n",
    "    x=[i for i in range(len(history.history['loss']))],\n",
    "    y=history.history['loss'],\n",
    "    mode='lines', name='Train Loss'\n",
    ")\n",
    "\n",
    "trace_test = go.Scatter(\n",
    "    x=[i for i in range(len(history.history['val_loss']))],\n",
    "    y=history.history['val_loss'],\n",
    "    mode='lines', name='Test Loss'\n",
    ")\n",
    "\n",
    "fig = go.Figure(data=[trace_train, trace_test]).update_layout(title=f'Train and Validation Loss over Epochs for <b>{selected_hand} hand</b>', xaxis_title='Epoch', yaxis_title='Loss')\n",
    "fig.show()"
   ]
  },
  {
   "cell_type": "markdown",
   "metadata": {},
   "source": [
    "# Running multiple times\n",
    "\n",
    "In order to get a better understanding of the model results, we will run the model multiple times and calculate the average of the metrics used by the authors."
   ]
  },
  {
   "cell_type": "code",
   "execution_count": null,
   "metadata": {},
   "outputs": [],
   "source": [
    "from sklearn.metrics import classification_report\n",
    "\n",
    "import random\n",
    "import warnings\n",
    "warnings.filterwarnings('ignore')\n",
    "\n",
    "num_runs = 100\n",
    "list_results = []\n",
    "\n",
    "for run in range(num_runs):\n",
    "    print(f'Run: {run}')\n",
    "    X_train, X_val, y_train, y_val = train_test_split(train_dataset[['tapping_rate', 'tapping_std', 'tapping_frozen']], train_dataset['target'], test_size=0.4, random_state=random.randint(0, 100))#42)\n",
    "\n",
    "    y_train = to_categorical(y_train, num_classes=df_dataset['target'].nunique())\n",
    "    y_val = to_categorical(y_val, num_classes=df_dataset['target'].nunique())\n",
    "\n",
    "    #model.fit(X_train, y_train, epochs=200, verbose=0)\n",
    "    model.fit(X_train, y_train, validation_data=(X_val, y_val), epochs=200, verbose=0)\n",
    "\n",
    "    X_test = test_dataset[df_dataset['participant'].str.contains(selected_hand)][['tapping_rate', 'tapping_std', 'tapping_frozen']]\n",
    "    y_test = to_categorical(test_dataset[df_dataset['participant'].str.contains(selected_hand)]['target'], num_classes=df_dataset['target'].nunique())\n",
    "    \n",
    "    y_pred = model.predict(X_test)\n",
    "    y_pred_classes = np.argmax(y_pred, axis=1)\n",
    "    y_true = np.argmax(y_test, axis=1)\n",
    "\n",
    "    cr = classification_report(y_true, y_pred_classes, zero_division=0, output_dict=True)\n",
    "    print(cr)\n",
    "\n",
    "    run_precision =  cr['macro avg']['precision']\n",
    "    run_recall = cr['macro avg']['recall']\n",
    "    run_f1 = cr['macro avg']['f1-score']\n",
    "    list_results.append({'run': run, 'precision': run_precision, 'recall': run_recall, 'f1': run_f1, \n",
    "                         'precision_0': cr['0']['precision'], 'recall_0': cr['0']['recall'], 'f1_0': cr['0']['f1-score'], \n",
    "                         'precision_1': cr['1']['precision'], 'recall_1': cr['1']['recall'], 'f1_1': cr['1']['f1-score'], \n",
    "                         'precision_2': cr['2']['precision'], 'recall_2': cr['2']['recall'], 'f1_2': cr['2']['f1-score'], \n",
    "                         'precision_3': cr['3']['precision'], 'recall_3': cr['3']['recall'], 'f1_3': cr['3']['f1-score']})\n",
    "    print()"
   ]
  },
  {
   "cell_type": "code",
   "execution_count": null,
   "metadata": {},
   "outputs": [],
   "source": [
    "df_runs = pd.DataFrame.from_records(list_results)\n",
    "df_runs.shape"
   ]
  },
  {
   "cell_type": "code",
   "execution_count": null,
   "metadata": {},
   "outputs": [],
   "source": [
    "df_runs.head()"
   ]
  },
  {
   "cell_type": "code",
   "execution_count": null,
   "metadata": {},
   "outputs": [],
   "source": [
    "df_runs[['precision', 'recall', 'f1']].describe()"
   ]
  },
  {
   "cell_type": "code",
   "execution_count": null,
   "metadata": {},
   "outputs": [],
   "source": [
    "selected_hand"
   ]
  },
  {
   "cell_type": "code",
   "execution_count": null,
   "metadata": {},
   "outputs": [],
   "source": [
    "df_runs.describe()"
   ]
  },
  {
   "cell_type": "markdown",
   "metadata": {},
   "source": [
    "model = '' #'model_20230808141544'\n",
    "\n",
    "df_runs.to_csv(f'runs_{model}.csv', index=False)\n",
    "df_runs.describe().to_csv(f'runs_describe_{model}.csv', index=False)"
   ]
  },
  {
   "cell_type": "code",
   "execution_count": null,
   "metadata": {},
   "outputs": [],
   "source": [
    "X_test = test_dataset[df_dataset['participant'].str.contains(selected_hand)][['tapping_rate', 'tapping_std', 'tapping_frozen']]\n",
    "y_test = to_categorical(test_dataset[df_dataset['participant'].str.contains(selected_hand)]['target'], num_classes=df_dataset['target'].nunique())\n",
    "\n",
    "y_pred = model.predict(X_test)\n",
    "y_pred_classes = np.argmax(y_pred, axis=1)\n",
    "y_true = np.argmax(y_test, axis=1)\n",
    "\n",
    "from sklearn.metrics import classification_report, confusion_matrix\n",
    "\n",
    "cr = classification_report(y_true, y_pred_classes, zero_division=0)\n",
    "print(cr)\n",
    "\n",
    "cm = confusion_matrix(y_true, y_pred_classes)\n",
    "print(cm)\n",
    "print()\n",
    "\n",
    "cm_pct = (cm.astype('float') / cm.sum(axis=1)[:, np.newaxis]).round(4)\n",
    "print(cm_pct)"
   ]
  },
  {
   "cell_type": "code",
   "execution_count": null,
   "metadata": {},
   "outputs": [],
   "source": [
    "import datetime\n",
    "\n",
    "model.save(f'model_{datetime.datetime.now().strftime(\"%Y%m%d%H%M%S\")}.h5')"
   ]
  },
  {
   "cell_type": "code",
   "execution_count": null,
   "metadata": {},
   "outputs": [],
   "source": [
    "model.summary()"
   ]
  },
  {
   "cell_type": "code",
   "execution_count": null,
   "metadata": {},
   "outputs": [],
   "source": [
    "from keras.utils.vis_utils import plot_model\n",
    "plot_model(model, to_file='model.png', expand_nested=True, show_shapes=True, show_layer_activations=True, show_dtype=True, show_layer_names=True, rankdir='TB', dpi=96, )"
   ]
  },
  {
   "cell_type": "code",
   "execution_count": null,
   "metadata": {},
   "outputs": [],
   "source": []
  }
 ],
 "metadata": {
  "kernelspec": {
   "display_name": "Python 3",
   "language": "python",
   "name": "python3"
  },
  "language_info": {
   "codemirror_mode": {
    "name": "ipython",
    "version": 3
   },
   "file_extension": ".py",
   "mimetype": "text/x-python",
   "name": "python",
   "nbconvert_exporter": "python",
   "pygments_lexer": "ipython3",
   "version": "3.9.13"
  },
  "orig_nbformat": 4
 },
 "nbformat": 4,
 "nbformat_minor": 2
}
